{
 "cells": [
  {
   "cell_type": "markdown",
   "metadata": {},
   "source": [
    "# Pythonでゴブレットゴブラーズ(簡易)の解析\n",
    "\n",
    "- [ゴブレットゴブラーズ (日本語版)](https://sgrk.blog.fc2.com/blog-entry-3687.html)\n",
    "- [ソースコード設計スライド](https://docs.google.com/presentation/d/1K8fbRlk24Y_J3M--F-WnYYN0hddL89w3EGN4Zgw-L1g/edit?usp=sharing)\n",
    "\n",
    "- [卒論概要](https://docs.google.com/document/d/1jEXvVmpUPCaowl3xR1qgyhUFGVHFVzyZjBo9F8OAR7M/edit?usp=sharing)"
   ]
  },
  {
   "cell_type": "markdown",
   "metadata": {},
   "source": [
    "## 1. 設計"
   ]
  },
  {
   "cell_type": "markdown",
   "metadata": {},
   "source": [
    "### a) state"
   ]
  },
  {
   "cell_type": "markdown",
   "metadata": {},
   "source": [
    "必要な情報を60bitで表す。  \n",
    "state = 0b_0_0_0_000000_000000000_000000000000000000000000000000000000000000000000000000_000000000000\n",
    "\n",
    "\n",
    "| 区分 | is_first | is_choise | is_choise_board | choise_piece_type | choise_piece | board | hand |\n",
    "| ---- | ---- | ---- | ---- | ---- | ---- | ---- | ---- |\n",
    "| bit数 | 1bit | 1bit | 1bit | 4bit | 9bit | 36bit | 8bit |\n",
    "| 例 | 1 | 1 | 1 | 1000 | 100000000 | 010000000 001000000 001010000 000000000 | 00 01 00 11 |\n",
    "| 説明 | 手番 | モード | 持ち上げている駒は盤か手か | 持ち上げている駒の種類[rl,rm,bl,bm] | 持ち上げている駒のマス[0,1,2,3,4,5,6,7,8] | 盤面に置いてある駒[rl0, rl1, ..., rm0..., bl0...] | 手駒[rlの個数, rmの...] |\n",
    "\n",
    "説明の補足 :   \n",
    "- hand  “00”...その駒は持ってない, “01”...一つ持ってる, “11”...２つ持ってる\n",
    "\n",
    "- stateは盤面に駒を配置したset_stateと行動する駒を選択したchoise_stateの２種類に分けられる。\n",
    "set_stateは\n",
    "```\n",
    "choise_piece_type == 0b000000000\n",
    "```\n",
    "であり、choise_stateでは何らかのbitが立っている。\n",
    "- choise_stateでしかis_choise, is_choise_board, choise_piece_typeはbitが立たない。\n",
    "- choise_stateで選択された駒はboard, handからは除外される。（浮いている駒）"
   ]
  },
  {
   "cell_type": "markdown",
   "metadata": {},
   "source": [
    "確認"
   ]
  },
  {
   "cell_type": "code",
   "execution_count": 31,
   "metadata": {},
   "outputs": [
    {
     "name": "stdout",
     "output_type": "stream",
     "text": [
      "653030742061744256\n",
      "100100010000000010000000000000000000000000000000000010000000\n",
      "<class 'str'>\n",
      "60\n"
     ]
    }
   ],
   "source": [
    "# 確認\n",
    "state = 0b_1_0_0_1000_100000000_100000000000000000000000000000000000_10000000\n",
    "print(state) # 10進数\n",
    "print(f'{state:060b}')#bin(プレフィックスなし)\n",
    "print(type(f'{state:060b}')) #文字列です\n",
    "print(len(f'{state:060b}')) # bit数の確認"
   ]
  },
  {
   "cell_type": "markdown",
   "metadata": {},
   "source": [
    "bit操作"
   ]
  },
  {
   "cell_type": "code",
   "execution_count": 32,
   "metadata": {},
   "outputs": [
    {
     "name": "stdout",
     "output_type": "stream",
     "text": [
      "0\n",
      "1000\n",
      "変更前 : 100100010000000010000000000000000000000000000000000010000000\n",
      "変更後 : 110100010000000010000000000000000000000000000000000010000000\n",
      "変更前 : 110100010000000010000000000000000000000000000000000010000000\n",
      "変更後 : 111100010000000010000000000000000000000000000000000011110000\n"
     ]
    }
   ],
   "source": [
    "# 1bit取り出す\n",
    "print(f'{state:084b}'[0])\n",
    "# 複数のbitを取り出す\n",
    "print(f'{state:060b}'[1+1+1:1+1+1+4])\n",
    "# 1bit書き換え\n",
    "print(\"変更前 : \" + f'{state:060b}')\n",
    "state = int(f'{state:060b}'[:1] + '1' + f'{state:060b}'[2:], 2)\n",
    "print(\"変更後 : \" + f'{state:060b}')\n",
    "# 複数のbitを書き換え\n",
    "print(\"変更前 : \" + f'{state:060b}')\n",
    "state = int(f'{state:060b}'[:2] + '1' + f'{state:060b}'[3:52] + '11110000', 2)\n",
    "print(\"変更後 : \" + f'{state:060b}')"
   ]
  },
  {
   "cell_type": "markdown",
   "metadata": {},
   "source": [
    "複数bitの取り出しチャンク"
   ]
  },
  {
   "cell_type": "code",
   "execution_count": 33,
   "metadata": {},
   "outputs": [
    {
     "name": "stdout",
     "output_type": "stream",
     "text": [
      "バラす  : 111100010000000010000000000000000000000000000000000011110000\n"
     ]
    }
   ],
   "source": [
    "# バラす\n",
    "is_first = f'{state:060b}'[0]\n",
    "is_choise = f'{state:060b}'[1]\n",
    "is_choise_board = f'{state:060b}'[2]\n",
    "choise_piece_type = f'{state:060b}'[3:3+4]\n",
    "choise_piece = f'{state:060b}'[7:7+9]\n",
    "board = f'{state:060b}'[16:16+36]\n",
    "hand = f'{state:060b}'[52:52+8]\n",
    "print(\"バラす  : \" + is_first + is_choise + is_choise_board + choise_piece_type + choise_piece + board + hand)"
   ]
  },
  {
   "cell_type": "markdown",
   "metadata": {},
   "source": [
    "### b) action"
   ]
  },
  {
   "cell_type": "markdown",
   "metadata": {},
   "source": [
    "set_action, choise_actionともに、行動する駒を表す。\n",
    "\n",
    "必要な情報を14bitで表す。  \n",
    "action = 0b_0_0000_000000000\n",
    "\n",
    "\n",
    "| 区分 | is_choise_board | choise_piece_type | choise_place |\n",
    "| ---- | ---- | ---- | ---- | \n",
    "| bit数 | 1bit | 4bit | 9bit | \n",
    "| 例 | 1 | 1000 | 100000000 | \n",
    "| 説明 | 行動する駒は盤か手か | 行動する駒の種類[rl,rm,bl,bm] | 行動する駒のマス[0,1,2,3,4,5,6,7,8] | \n",
    "\n",
    "説明の補足 : \n",
    "- set_actionは選択してある駒を配置する行動なので、この行動によりstateはchoise_stateからset_stateへと変化する。\n",
    "- choise_actionは駒を選択する行動なので、この行動によりstateはset_stateからchoise_stateへと変化する。"
   ]
  },
  {
   "cell_type": "markdown",
   "metadata": {},
   "source": [
    "確認"
   ]
  },
  {
   "cell_type": "code",
   "execution_count": 34,
   "metadata": {},
   "outputs": [
    {
     "name": "stdout",
     "output_type": "stream",
     "text": [
      "12544\n",
      "11000100000000\n",
      "<class 'str'>\n",
      "14\n"
     ]
    }
   ],
   "source": [
    "# 確認\n",
    "action = 0b_1_1000_100000000\n",
    "print(action) # 10進数\n",
    "print(f'{action:014b}')#bin(プレフィックスなし)\n",
    "print(type(f'{action:014b}')) #文字列です\n",
    "print(len(f'{action:014b}')) # bit数の確認"
   ]
  },
  {
   "cell_type": "markdown",
   "metadata": {},
   "source": [
    "bit操作"
   ]
  },
  {
   "cell_type": "code",
   "execution_count": 35,
   "metadata": {},
   "outputs": [
    {
     "name": "stdout",
     "output_type": "stream",
     "text": [
      "1\n",
      "1000\n",
      "変更前 : 11000100000000\n",
      "変更後 : 10001000000010\n"
     ]
    }
   ],
   "source": [
    "# 1bit取り出す\n",
    "print(f'{action:014b}'[0])\n",
    "# 複数のbitを取り出す\n",
    "print(f'{action:014b}'[1:1+4])\n",
    "# 書き換え\n",
    "print(\"変更前 : \" + f'{action:014b}')\n",
    "action = int(f'{action:014b}'[:1] + '0001' + '000000010', 2)\n",
    "print(\"変更後 : \" + f'{action:014b}')"
   ]
  },
  {
   "cell_type": "markdown",
   "metadata": {},
   "source": [
    "複数bitの取り出しチャンク"
   ]
  },
  {
   "cell_type": "code",
   "execution_count": 36,
   "metadata": {},
   "outputs": [
    {
     "name": "stdout",
     "output_type": "stream",
     "text": [
      "バラす  : 10001000000010\n"
     ]
    }
   ],
   "source": [
    "# バラす\n",
    "is_choise_board = f'{action:014b}'[0]\n",
    "choise_piece_type = f'{action:014b}'[1:1+4]\n",
    "choise_piece = f'{action:014b}'[5:5+9]\n",
    "print(\"バラす  : \" + is_choise_board + choise_piece_type + choise_piece)"
   ]
  },
  {
   "cell_type": "markdown",
   "metadata": {},
   "source": [
    "## 関数宣言"
   ]
  },
  {
   "cell_type": "markdown",
   "metadata": {},
   "source": [
    "### 正規化"
   ]
  },
  {
   "cell_type": "markdown",
   "metadata": {},
   "source": [
    "盤面を回転、線対称、点対称させることで、同意の状態を一つの状態として扱う。  \n",
    "変換後、board部が最も小さい状態で正規化する。"
   ]
  },
  {
   "cell_type": "code",
   "execution_count": 78,
   "metadata": {},
   "outputs": [],
   "source": [
    "import numpy as np\n",
    "\n",
    "# 変換表を定義( 何度も定義しないように関数外で宣言)\n",
    "convert_tables = np.array(\n",
    "    [[6,3,0,7,4,1,8,5,2],[8,7,6,5,4,3,2,1,0],\n",
    "     [2,5,8,1,4,7,0,3,6],[2,1,0,5,4,3,8,7,6],\n",
    "     [6,7,8,3,4,5,0,1,2],[0,3,6,1,4,7,2,5,8],[8,5,2,7,4,1,6,3,0]])\n",
    "\n",
    "def convert_normalization_state(state):\n",
    "  is_first = f'{state:060b}'[0]\n",
    "  is_choise = f'{state:060b}'[1]\n",
    "  is_choise_board = f'{state:060b}'[2]\n",
    "  choise_piece_type = f'{state:060b}'[3:3+4]\n",
    "  choise_piece = f'{state:060b}'[7:7+9]\n",
    "  board = f'{state:060b}'[16:16+36]\n",
    "  hand = f'{state:060b}'[52:52+8]\n",
    "\n",
    "  # 変換表でboardを変換したcand_boardを作成し、boardと比較して小さいなら上書きする\n",
    "  # もしより小さい候補が見つかったら、それと同じ変換表でchoise_pieceも変換する\n",
    "  board_list = np.array(list(board))\n",
    "  choise_piece_list = np.array(list(choise_piece))\n",
    "  for convert_table in convert_tables:\n",
    "    #     cand_board_list = [0] * 36\n",
    "    cand_board_list = np.empty(36, dtype = str)\n",
    "    for i in range(4):\n",
    "      for after_num, before_num in enumerate(convert_table):\n",
    "        cand_board_list[i*9 + after_num] = board_list[i*9 + before_num]\n",
    "    # print(\"cand_board : \" + \"\".join(cand_board_list))  # デバッグ用\n",
    "    # board_list と cand_board_list を比較\n",
    "    board = board_list.tolist()\n",
    "    cand_board = cand_board_list.tolist()\n",
    "    if board > cand_board:\n",
    "      board_list = cand_board_list # 上書き\n",
    "      for after_num, before_num in enumerate(convert_table): # choise_pieceの変換\n",
    "        choise_piece_list[after_num] = choise_piece_list[before_num]\n",
    "\n",
    "  # board_list, choise_piece_listをboard, choise_pieceに変換\n",
    "  board = \"\".join(board_list.tolist())\n",
    "  choise_piece = \"\".join(choise_piece_list.tolist())\n",
    "\n",
    "  normalization_state = int(is_first + is_choise + is_choise_board + choise_piece_type + choise_piece + board + hand, 2)\n",
    "  return normalization_state"
   ]
  },
  {
   "cell_type": "markdown",
   "metadata": {},
   "source": [
    "確認"
   ]
  },
  {
   "cell_type": "code",
   "execution_count": 79,
   "metadata": {},
   "outputs": [
    {
     "name": "stdout",
     "output_type": "stream",
     "text": [
      "先手L駒0マスにおく -> 先手L駒は8マスに\n",
      "結果 : normalization_state = 100000000000000000000000100000000000000000000000000001111111\n"
     ]
    }
   ],
   "source": [
    "# 確認\n",
    "# 先手, 手駒Lを選択時, 置ける駒はL, その位置は0~8のハズ\n",
    "state = 0b_1_0_0_0000_000000000_100000000_000000000_000000000_000000000_01111111\n",
    "print(\"先手L駒0マスにおく -> 先手L駒は8マスに\")\n",
    "print(f'結果 : normalization_state = {convert_normalization_state(state):060b}')"
   ]
  },
  {
   "cell_type": "markdown",
   "metadata": {},
   "source": [
    "### 合法手"
   ]
  },
  {
   "cell_type": "markdown",
   "metadata": {},
   "source": [
    "stateからその合法手一覧であるactionsを作成する\n",
    "\n",
    "actions:\n",
    "```\n",
    "actions = [action1, action2, ...]\n",
    "```\n",
    "\n",
    "stateの種類ごとに作成:\n",
    "- choise_stateから合法手を作成 : leagal_actions_from_choise_state(choise_state)\n",
    "- set_stateから合法手を作成 : leagal_actions_from_set_state(set_state)"
   ]
  },
  {
   "cell_type": "markdown",
   "metadata": {},
   "source": [
    "#### leagal_actions_from_choise_state(choise_state) -> set_actions:  \n",
    "setする駒と場所一覧... set_actions を作成する  \n",
    "setできる駒と場所とは....\n",
    "- handは行動できない。あくまで選んだ駒を盤面に配置するという作業だから。\n",
    "- choiseしている駒と同じ駒しか行動できない。例: rlを選んだならrlしか行動できない。\n",
    "- choiseした駒以上の大きさの駒があるマスには行動できない。\n",
    "- choiseした駒が盤面なら、\n",
    "    - choiseした駒があったマスには行動できない。"
   ]
  },
  {
   "cell_type": "code",
   "execution_count": 80,
   "metadata": {},
   "outputs": [],
   "source": [
    "# choise_stateから合法手を作成\n",
    "#\n",
    "# 出力するactionはすべてset_actionである。\n",
    "\n",
    "def leagal_actions_from_choise_state(choise_state):\n",
    "  is_choise_board = f'{choise_state:060b}'[2]\n",
    "  choise_piece_type = f'{choise_state:060b}'[3:3+4]\n",
    "  choise_piece = f'{choise_state:060b}'[7:7+9]\n",
    "  board = f'{choise_state:060b}'[16:16+36]  \n",
    "\n",
    "  # set_actions_bitを作成\n",
    "  set_actions_bit = f'{0:036b}' # 36bit。すべての駒と位置が行動不能で初期化\n",
    "  # choiseしている駒と同じ駒は行動できる。\n",
    "  cpy_f = choise_piece_type.find('1')\n",
    "  set_actions_bit = set_actions_bit[:9*cpy_f] + '111111111' + set_actions_bit[9*(cpy_f+1):]\n",
    "  # choiseしている駒がboardの駒なら、そのマスに行動出来ない\n",
    "  if is_choise_board == '1': \n",
    "    cp_f = choise_piece.find('1')\n",
    "    set_actions_bit = set_actions_bit[:9*cpy_f+cp_f] + '0' + set_actions_bit[9*cpy_f+cp_f+1:]\n",
    "  # choiseした駒以上の大きさの駒があるマスには行動できない。\n",
    "  for mass in range(9):\n",
    "    if board[mass] == '1' or board[mass+18] == \"1\": # L駒があるか\n",
    "      set_actions_bit = set_actions_bit[:9*cpy_f+mass] + '0' + set_actions_bit[9*cpy_f+mass+1:]\n",
    "    if cpy_f in [1,3]: #選択してあるこまがMなら\n",
    "      if board[mass+9] == '1' or board[mass+18+9] == \"1\": # M駒があるか\n",
    "        set_actions_bit = set_actions_bit[:9*cpy_f+mass] + '0' + set_actions_bit[9*cpy_f+mass+1:]\n",
    "\n",
    "  # actions_bitをactionsに変換\n",
    "  set_actions = []\n",
    "  for i, bit in enumerate(set_actions_bit):\n",
    "    if bit == '1':\n",
    "      set_action = int('0b_1_0000_000000000', 2)\n",
    "      set_action = int(f'{set_action:014b}'[:1+(i//9)] + '1' + f'{set_action:014b}'[1+(i//9)+1:], 2) # 駒の種類の反映\n",
    "      set_action = int(f'{set_action:014b}'[:1+4+(i%9)] + '1' + f'{set_action:014b}'[1+4+(i%9)+1:], 2) # 駒の位置の反映\n",
    "      set_actions.append(set_action)\n",
    "\n",
    "  return set_actions"
   ]
  },
  {
   "cell_type": "markdown",
   "metadata": {},
   "source": [
    "確認"
   ]
  },
  {
   "cell_type": "code",
   "execution_count": 81,
   "metadata": {},
   "outputs": [
    {
     "name": "stdout",
     "output_type": "stream",
     "text": [
      "先手, 手駒Lを選択時, 置ける駒はL, その位置は0~8のハズ\n",
      "11000100000000\n",
      "11000010000000\n",
      "11000001000000\n",
      "11000000100000\n",
      "11000000010000\n",
      "11000000001000\n",
      "11000000000100\n",
      "11000000000010\n",
      "11000000000001\n",
      "先手, 手駒Mを選択時, 置ける駒はM, その位置は0~8のハズ\n",
      "10100100000000\n",
      "10100010000000\n",
      "10100001000000\n",
      "10100000100000\n",
      "10100000010000\n",
      "10100000001000\n",
      "10100000000100\n",
      "10100000000010\n",
      "10100000000001\n",
      "後手, 手駒Mを選択時, 置ける駒はM, その位置は0~8のハズ\n",
      "10001100000000\n",
      "10001010000000\n",
      "10001001000000\n",
      "10001000100000\n",
      "10001000010000\n",
      "10001000001000\n",
      "10001000000100\n",
      "10001000000010\n",
      "10001000000001\n",
      "\n",
      "先手, マス0の自駒Lを選択時, 置ける駒はL, その位置は1~8のハズ(盤面に他の駒なし)\n",
      "11000010000000\n",
      "11000001000000\n",
      "11000000100000\n",
      "11000000010000\n",
      "11000000001000\n",
      "11000000000100\n",
      "11000000000010\n",
      "11000000000001\n",
      "先手, マス3の自駒Mを選択時, 置ける駒はM, その位置は0~2, 4~8のハズ(盤面に他の駒なし)\n",
      "10100100000000\n",
      "10100010000000\n",
      "10100001000000\n",
      "10100000010000\n",
      "10100000001000\n",
      "10100000000100\n",
      "10100000000010\n",
      "10100000000001\n",
      "\n",
      "先手, 手駒Lを選択時, 盤面には[0, 0, 0, RL, RM, 0, BL, BM, 0], 行動位置は0~2, 4~5, 7~8のハズ\n",
      "11000100000000\n",
      "11000010000000\n",
      "11000001000000\n",
      "11000000010000\n",
      "11000000001000\n",
      "11000000000010\n",
      "11000000000001\n",
      "先手, 手駒Mを選択時, 盤面には[0, 0, 0, RL, RM, RS, BL, BM, BS], 行動位置は0~2, 5, 8のハズ\n",
      "10100100000000\n",
      "10100010000000\n",
      "10100001000000\n",
      "10100000001000\n",
      "10100000000001\n"
     ]
    }
   ],
   "source": [
    "# 確認\n",
    "\n",
    "# choiseしている駒と同じ駒は行動できる。\n",
    "\n",
    "# 先手, 手駒Lを選択時, 置ける駒はL, その位置は0~8のハズ\n",
    "state = 0b_1_1_0_100000_000000000_000000000_000000000_000000000_000000000_01111111\n",
    "print(\"先手, 手駒Lを選択時, 置ける駒はL, その位置は0~8のハズ\")\n",
    "for action in leagal_actions_from_choise_state(state):\n",
    "  print(f'{action:014b}')\n",
    "# 先手, 手駒Mを選択時, 置ける駒はM, その位置は0~8のハズ\n",
    "state = 0b_1_1_0_010000_000000000_000000000_000000000_000000000_000000000_000000000_000000000_11011111\n",
    "print(\"先手, 手駒Mを選択時, 置ける駒はM, その位置は0~8のハズ\")\n",
    "for action in leagal_actions_from_choise_state(state):\n",
    "  print(f'{action:014b}')\n",
    "\n",
    "# 後手, 手駒Mを選択時, 置ける駒はM, その位置は0~8のハズ\n",
    "state = 0b_0_1_0_0001_000000000_000000000_000000000_000000000_000000000_11111101\n",
    "print(\"後手, 手駒Mを選択時, 置ける駒はM, その位置は0~8のハズ\")\n",
    "for action in leagal_actions_from_choise_state(state):\n",
    "  print(f'{action:014b}')\n",
    "print()\n",
    "\n",
    "# choiseしている駒がboardの駒なら、そのマスに行動出来ない\n",
    "\n",
    "# 先手, マス0の自駒Lを選択時, 行動位置は1~8のハズ(盤面に他の駒なし)\n",
    "state = 0b_1_1_1_1000_100000000_000000000_000000000_000000000_000000000_01111111\n",
    "print(\"先手, マス0の自駒Lを選択時, 置ける駒はL, その位置は1~8のハズ(盤面に他の駒なし)\")\n",
    "for action in leagal_actions_from_choise_state(state):\n",
    "  print(f'{action:014b}')\n",
    "# 先手, マス3の自駒Mを選択時, 行動位置は0~2, 4~8のハズ(盤面に他の駒なし)\n",
    "state = 0b_1_1_1_0100_000100000_000000000_000000000_000000000_000000000_11011111\n",
    "print(\"先手, マス3の自駒Mを選択時, 置ける駒はM, その位置は0~2, 4~8のハズ(盤面に他の駒なし)\")\n",
    "for action in leagal_actions_from_choise_state(state):\n",
    "  print(f'{action:014b}')\n",
    "print()\n",
    "\n",
    "# choiseした駒以上の大きさの駒があるマスには行動できない。\n",
    "\n",
    "# 先手, 手駒Lを選択時, 盤面には[0, 0, 0, RL, RM, 0, BL, BM, 0], 行動位置は0~2, 4~5, 7~8のハズ\n",
    "state = 0b_1_1_0_1000_000000000_000100000_000010000_000000100_000000010_00010101\n",
    "print(\"先手, 手駒Lを選択時, 盤面には[0, 0, 0, RL, RM, 0, BL, BM, 0], 行動位置は0~2, 4~5, 7~8のハズ\")\n",
    "for action in leagal_actions_from_choise_state(state):\n",
    "  print(f'{action:014b}')\n",
    "# 先手, 手駒Mを選択時, 盤面には[0, 0, 0, RL, RM, 0, BL, BM, 0], 行動位置は0~2, 5, 8のハズ\n",
    "state = 0b_1_1_0_0100_000000000_000100000_000010000_000000100_000000010_01000101\n",
    "print(\"先手, 手駒Mを選択時, 盤面には[0, 0, 0, RL, RM, RS, BL, BM, BS], 行動位置は0~2, 5, 8のハズ\")\n",
    "for action in leagal_actions_from_choise_state(state):\n",
    "  print(f'{action:014b}')"
   ]
  },
  {
   "cell_type": "markdown",
   "metadata": {},
   "source": [
    "#### leagal_actions_from_set_state(set_state) -> choise_actions:  \n",
    "\n",
    "choiseできる駒の一覧... choise_actions を作成する  \n",
    "choiseできる駒とは....  \n",
    "- 自分の駒しか行動できない\n",
    "\n",
    "手駒なら,\n",
    "- 手駒に動かしたい駒が１つもなければ、その駒は行動できない。\n",
    "- 動かしたい駒以上の大きさの駒が配置されているマスには行動できない。\n",
    "\n",
    "盤上の駒なら、\n",
    "- 盤上の一番表面にある駒しか行動できない。\n",
    "- 動かしたい駒以上の大きさの駒があるマスには行動できない。"
   ]
  },
  {
   "cell_type": "code",
   "execution_count": 82,
   "metadata": {},
   "outputs": [],
   "source": [
    "# set_stateから合法手を作成\n",
    "#\n",
    "# 出力するactionはすべてchoise_actionである。\n",
    "\n",
    "def leagal_actions_from_set_state(set_state):\n",
    "  is_first = f'{set_state:060b}'[0]\n",
    "  board = f'{set_state:060b}'[16:16+36]\n",
    "  hand = f'{set_state:060b}'[52:52+8]\n",
    "\n",
    "  # 盤面の各マスに駒が存在するかどうか\n",
    "  exist_place = f'{int(board[0:9], 2) | int(board[9:18], 2) | int(board[18:27], 2) | int(board[27:36], 2) :09b}' \n",
    "  # 手駒は,\n",
    "  choise_hand_actions_bit = '1111'\n",
    "  for piece_type in range(4): # 手駒にその駒が１つもないなら行動不可\n",
    "    if hand[piece_type*2:piece_type*2+2] == \"00\": \n",
    "      choise_hand_actions_bit = choise_hand_actions_bit[:piece_type] + '0' + choise_hand_actions_bit[piece_type+1:]\n",
    "  if is_first == \"1\": # 先手なら、先手の駒しか動かせない\n",
    "    choise_hand_actions_bit = choise_hand_actions_bit[:2] + '00'\n",
    "  else: # 後手なら、後手の駒しか動かせない\n",
    "    choise_hand_actions_bit = '00' + choise_hand_actions_bit[2:]\n",
    "  # 盤上の駒は、\n",
    "  exist_large_place = int(board[0:9], 2) | int(board[18:27], 2)\n",
    "  exist_middle_place = int(board[9:18], 2) | int(board[27:36], 2)\n",
    "  # 盤上の一番表面にある駒しか行動できない\n",
    "  choise_board_actions_bit = board[0:9] \\\n",
    "   + f'{int(board[9:18], 2) & ~exist_large_place :09b}' \\\n",
    "   + board[18:27] \\\n",
    "   + f'{int(board[27:36], 2) & ~exist_large_place :09b}'\n",
    "  if is_first == \"1\": # 先手なら、先手の駒しか動かせない\n",
    "    choise_board_actions_bit = choise_board_actions_bit[:18] + '000000000000000000'\n",
    "  else: # 後手なら、後手の駒しか動かせない\n",
    "    choise_board_actions_bit = '000000000000000000' + choise_board_actions_bit[18:]\n",
    "\n",
    "  # choise_hand_actions_bitをchoise_actionsへchoise_actionに変換しながら追加\n",
    "  choise_actions = []\n",
    "  for i, bit in enumerate(choise_hand_actions_bit): # choise_hand_actions_bit = '00_00\n",
    "    if bit == '1':\n",
    "      choise_action = int('0b_0_0000_000000000', 2)\n",
    "      choise_action = int(f'{choise_action:014b}'[:1+i] + '1' + f'{choise_action:014b}'[1+i+1:], 2) # 駒の種類の反映\n",
    "      choise_actions.append(choise_action)\n",
    "\n",
    "  # choise_board_actions_bitをchoise_actionsへchoise_actionに変換しながら追加\n",
    "  for i, bit in enumerate(choise_board_actions_bit): # choise_board_actions_bit = '000000000_000000000_000000000_000000000'\n",
    "    if bit == '1':\n",
    "      choise_action = int('0b_1_0000_000000000', 2)\n",
    "      choise_action = int(f'{choise_action:014b}'[:1+(i//9)] + '1' + f'{choise_action:014b}'[1+(i//9)+1:], 2) # 駒の種類の反映\n",
    "      choise_action = int(f'{choise_action:014b}'[:1+4+(i%9)] + '1' + f'{choise_action:014b}'[1+4+(i%9)+1:], 2) # 駒の位置の反映\n",
    "      choise_actions.append(choise_action)\n",
    "\n",
    "  return choise_actions"
   ]
  },
  {
   "cell_type": "markdown",
   "metadata": {},
   "source": [
    "確認"
   ]
  },
  {
   "cell_type": "code",
   "execution_count": 83,
   "metadata": {},
   "outputs": [
    {
     "name": "stdout",
     "output_type": "stream",
     "text": [
      "# 先手, 手駒にその駒が１つもないなら行動不可。(行動可能は先手の駒数が1つのM駒のハズ)\n",
      "00100000000000\n",
      "\n",
      "# 先手、盤上の一番表面にある駒しか行動できない。(行動可能は0マスにあるL駒と1マスにあるM駒)\n",
      "11000100000000\n",
      "11000010000000\n",
      "10100001000000\n"
     ]
    }
   ],
   "source": [
    "# 確認\n",
    "\n",
    "# 手駒\n",
    "# 先手, 手駒にその駒が１つもないなら行動不可\n",
    "state = 0b_1_0_0_0000_000000000_000000000_000000000_000000000_000000000_00010000\n",
    "print(\"# 先手, 手駒にその駒が１つもないなら行動不可。(行動可能は先手の駒数が1つのM駒のハズ)\")\n",
    "for action in leagal_actions_from_set_state(state):\n",
    "  print(f'{action:014b}')\n",
    "print()\n",
    "\n",
    "# 盤上の駒\n",
    "# 先手、盤上の一番表面にある駒しか行動できない。(行動可能は0,1マスにあるL駒と2マスにあるM駒)\n",
    "state = 0b_1_0_0_0000_000000000_110000000_011000000_000000000_000000000_00001111\n",
    "print(\"# 先手、盤上の一番表面にある駒しか行動できない。(行動可能は0マスにあるL駒と1マスにあるM駒)\")\n",
    "for action in leagal_actions_from_set_state(state):\n",
    "  print(f'{action:014b}')"
   ]
  },
  {
   "cell_type": "markdown",
   "metadata": {},
   "source": [
    "#### 合法手の作成"
   ]
  },
  {
   "cell_type": "code",
   "execution_count": 84,
   "metadata": {},
   "outputs": [],
   "source": [
    "def legal_actions(state):\n",
    "  actions = []\n",
    "  if f'{state:060b}'[1] == '1':\n",
    "    actions = leagal_actions_from_choise_state(state)\n",
    "  else:\n",
    "    actions = leagal_actions_from_set_state(state)\n",
    "  return actions"
   ]
  },
  {
   "cell_type": "markdown",
   "metadata": {},
   "source": [
    "確認"
   ]
  },
  {
   "cell_type": "code",
   "execution_count": 85,
   "metadata": {},
   "outputs": [
    {
     "name": "stdout",
     "output_type": "stream",
     "text": [
      "先手, 手駒Lを選択時, 置ける駒はL, その位置は0~8のハズ\n",
      "11000100000000\n",
      "11000010000000\n",
      "11000001000000\n",
      "11000000100000\n",
      "11000000010000\n",
      "11000000001000\n",
      "11000000000100\n",
      "11000000000010\n",
      "11000000000001\n"
     ]
    }
   ],
   "source": [
    "# 確認\n",
    "\n",
    "# 先手, 手駒Lを選択時, 置ける駒はL, その位置は0~8のハズ\n",
    "state = 0b_1_1_0_1000_000000000_000000000_000000000_000000000_000000000_01111111\n",
    "print(\"先手, 手駒Lを選択時, 置ける駒はL, その位置は0~8のハズ\")\n",
    "for action in legal_actions(state):\n",
    "  print(f'{action:014b}')"
   ]
  },
  {
   "cell_type": "markdown",
   "metadata": {},
   "source": [
    "### 次の手"
   ]
  },
  {
   "cell_type": "markdown",
   "metadata": {},
   "source": [
    "stateにactionを反映して、次のstateを作成する\n",
    "\n",
    "stateごとに関数を作成。  \n",
    "- choise_stateから次のstateを作成 : next_state_from_choise_state(choise_state, set_action)\n",
    "- set_stateから次のstateを作成 : next_state_from_set_state(set_state, choise_action)\n"
   ]
  },
  {
   "cell_type": "markdown",
   "metadata": {},
   "source": [
    "#### choise_state, set_actionから次のstateを作成"
   ]
  },
  {
   "cell_type": "code",
   "execution_count": 86,
   "metadata": {},
   "outputs": [],
   "source": [
    "def next_state_from_choise_state(choise_state, set_action):   \n",
    "  is_first = f'{choise_state:060b}'[0]\n",
    "  is_choise_board = f'{choise_state:060b}'[2]\n",
    "  choise_piece_type = f'{choise_state:060b}'[3:3+4]\n",
    "  choise_piece = f'{choise_state:060b}'[7:7+9]\n",
    "  board = f'{choise_state:060b}'[16:16+36]\n",
    "  hand = f'{choise_state:060b}'[52:52+8]\n",
    "\n",
    "\t# set_actionで選択している駒と位置を、boardで1にする。\n",
    "  piece_type = f'{set_action:014b}'[1:5].find('1')\n",
    "  piece_place = f'{set_action:014b}'[5:].find('1')\n",
    "  board = board[:piece_type*9+piece_place] + '1' +  board[piece_type*9+piece_place+1:] \n",
    "\n",
    "\t# 手番プレイヤーの交代 … is_firstを反転\n",
    "  is_first = \"0\" if is_first == \"1\" else \"1\"\n",
    "\t# stateのモードを切り替える...is_choiseを0にする\n",
    "  is_choise = \"0\"\n",
    "  # is_choise_board, choise_piece_type, choise_piece をすべて0埋め\n",
    "  is_choise_board = \"0\"\n",
    "  choise_piece_type = \"0000\"\n",
    "  choise_piece = \"000000000\"\n",
    "\n",
    "  # next_stateの作成\n",
    "  next_state = int(is_first + is_choise + is_choise_board + choise_piece_type + choise_piece + board + hand, 2)\n",
    "  return next_state"
   ]
  },
  {
   "cell_type": "markdown",
   "metadata": {},
   "source": [
    "確認"
   ]
  },
  {
   "cell_type": "code",
   "execution_count": 87,
   "metadata": {},
   "outputs": [
    {
     "name": "stdout",
     "output_type": "stream",
     "text": [
      "正解 : next_state = 000000000000000010000000000000000000000000000000000001111111\n",
      "結果 : next_state = 000000000000000010000000000000000000000000000000000001111111\n",
      "\n",
      "正解 : next_state = 100000000000000010000000000000000001000000000000000001110111\n",
      "結果 : next_state = 100000000000000010000000000000000001000000000000000001110111\n",
      "\n",
      "正解 : next_state = 000000000000000000100000000000000001000000000000000001110111\n",
      "結果 : next_state = 000000000000000000100000000000000001000000000000000001110111\n",
      "\n"
     ]
    }
   ],
   "source": [
    "# 確認\n",
    "\n",
    "# (state = 先手初期浮き手駒Lのchoise盤面, action = Lを0マスに置く) => (state = 後手、先手L駒が0に配置された盤面のset状態)\n",
    "state = 0b_1_1_0_1000_000000000_000000000000000000000000000000000000_01111111\n",
    "action = 0b_1_1000_100000000\n",
    "next_state = next_state_from_choise_state(state, action)\n",
    "print(\"正解 : next_state = 000000000000000010000000000000000000000000000000000001111111\")\n",
    "print( f'結果 : next_state = {next_state:060b}')\n",
    "print()\n",
    "\n",
    "# (state = 後手, 先手Lが0かつ浮き手駒Lのchoise盤面, action = Lを1マスに置く) => (state = 先手、先手L駒が0, 後手L駒が1に配置された盤面のset状態)\n",
    "state = 0b_0_1_0_0010_000000000_100000000000000000000000000000000000_01110111\n",
    "action = 0b_1_0010_010000000\n",
    "next_state = next_state_from_choise_state(state, action)\n",
    "print(\"正解 : next_state = 100000000000000010000000000000000001000000000000000001110111\")\n",
    "print( f'結果 : next_state = {next_state:060b}')\n",
    "print()\n",
    "\n",
    "# (state = 先手, 先手L0後手L1浮き盤駒Lのchoise盤面, action = Lを2マスに置く) => (state = 後手、先手L駒が2、後手L駒が1に配置された盤面のset状態)\n",
    "state = 0b_1_1_1_1000_100000000_000000000000000000010000000000000000_01110111\n",
    "action = 0b_1_1000_001000000\n",
    "next_state = next_state_from_choise_state(state, action)\n",
    "print(\"正解 : next_state = 000000000000000000100000000000000001000000000000000001110111\")\n",
    "print( f'結果 : next_state = {next_state:060b}')\n",
    "print()"
   ]
  },
  {
   "cell_type": "markdown",
   "metadata": {},
   "source": [
    "#### set_state, choise_actionから次のstateを作成"
   ]
  },
  {
   "cell_type": "code",
   "execution_count": 88,
   "metadata": {},
   "outputs": [],
   "source": [
    "def next_state_from_set_state(set_state, choise_action):\n",
    "  is_first = f'{set_state:060b}'[0]\n",
    "  is_choise_board = f'{set_state:060b}'[2]\n",
    "  choise_piece_type = f'{set_state:060b}'[3:3+4]\n",
    "  choise_piece = f'{set_state:060b}'[7:7+9]\n",
    "  board = f'{set_state:060b}'[16:16+36]\n",
    "  hand = f'{set_state:060b}'[52:52+8]\n",
    "\n",
    "\t# stateのモードを切り替える...is_choiseを1にする\n",
    "  is_choise = \"1\"\n",
    "  # choise_actionをis_choise_board, choise_piece_type, choise_piece に反映する\n",
    "  is_choise_board = f'{choise_action:014b}'[0]\n",
    "  choise_piece_type = f'{choise_action:014b}'[1:5]\n",
    "  choise_piece =  f'{choise_action:014b}'[5:14]\n",
    "  # 選択した駒をboard, handから取り除く\n",
    "  piece_type = f'{choise_action:014b}'[1:5].find('1')\n",
    "  piece_place = f'{choise_action:014b}'[5:].find('1')\n",
    "  if f'{choise_action:014b}'[0] == \"1\":   # choise_actionで盤の駒を選択しているなら\n",
    "    # choise_actionで選択している駒と位置を、boardで0にする。\n",
    "    board = board[:piece_type*9+piece_place] + '0' +  board[piece_type*9+piece_place+1:] \n",
    "  # choise_actionで選択している駒の数を、handで1減らす。\n",
    "  # “00”...その駒は持ってない, “01”...一つ持ってる, “11”...２つ持ってる\t\n",
    "  if hand[piece_type*2:piece_type*2+2] == \"11\":\n",
    "    hand = hand[:piece_type*2] + \"01\" + hand[piece_type*2+2:]\n",
    "  else: # hand[piece_type*2:piece_type*2+2] == \"01\":\n",
    "    hand = hand[:piece_type*2] + \"00\" + hand[piece_type*2+2:]\n",
    "\n",
    "  # next_stateの作成\n",
    "  next_state = int(is_first + is_choise + is_choise_board + choise_piece_type + choise_piece + board + hand, 2)\n",
    "  return next_state"
   ]
  },
  {
   "cell_type": "code",
   "execution_count": 89,
   "metadata": {},
   "outputs": [],
   "source": [
    "def create_next_state(state, action):\n",
    "  is_choise = f'{state:060b}'[1]\n",
    "  next_state = 0\n",
    "  if is_choise == \"1\":\n",
    "    next_state = next_state_from_choise_state(state, action)\n",
    "  else:\n",
    "    next_state = next_state_from_set_state(state, action)\n",
    "  next_state = convert_normalization_state(next_state) # 下記確認ではコメントアウト\n",
    "  return next_state"
   ]
  },
  {
   "cell_type": "markdown",
   "metadata": {},
   "source": [
    "#### 確認"
   ]
  },
  {
   "cell_type": "markdown",
   "metadata": {},
   "source": [
    "actions が空になるまで、初期盤面からnext_stateを探索していく。  \n",
    "ここでは、`action = actions[0]`とする。"
   ]
  },
  {
   "cell_type": "code",
   "execution_count": 90,
   "metadata": {},
   "outputs": [
    {
     "name": "stdout",
     "output_type": "stream",
     "text": [
      "0番目\n",
      "状態 : 576460752303423743\n",
      "行動 : 4096\n",
      "1番目\n",
      "状態 : 936748722493063295\n",
      "行動 : 12544\n",
      "\n",
      "2番目\n",
      "状態 : 34359738495\n",
      "行動 : 1024\n",
      "\n",
      "3番目\n",
      "状態 : 306244809020932215\n",
      "行動 : 9472\n",
      "\n",
      "4番目\n",
      "状態 : 576460786696716407\n",
      "行動 : 4096\n",
      "\n",
      "5番目\n",
      "状態 : 936748756886356023\n",
      "行動 : 12416\n",
      "\n",
      "6番目\n",
      "状態 : 412325249079\n",
      "行動 : 1024\n",
      "\n",
      "7番目\n",
      "状態 : 306245186986442803\n",
      "行動 : 9472\n",
      "\n",
      "8番目\n",
      "状態 : 576461164662226995\n",
      "行動 : 2048\n",
      "\n",
      "9番目\n",
      "状態 : 900720337832902675\n",
      "行動 : 10368\n",
      "\n"
     ]
    }
   ],
   "source": [
    "# 確認\n",
    "state = 0b_1_0_0_0000_000000000_000000000000000000000000000000000000_11111111\n",
    "print(\"0番目\")\n",
    "print(\"状態 : {}\".format(state))\n",
    "action = legal_actions(state)[0]\n",
    "print(\"行動 : {}\".format(action))\n",
    "for i in range(1,10):\n",
    "  print(str(i) + \"番目\")\n",
    "  state = create_next_state(state, action)\n",
    "  print(\"状態 : {}\".format(state))\n",
    "  action = legal_actions(state)[0]\n",
    "  print(\"行動 : {}\".format(action))\n",
    "  print()\n"
   ]
  },
  {
   "cell_type": "markdown",
   "metadata": {},
   "source": [
    "### 盤面から勝敗確定かチェック"
   ]
  },
  {
   "cell_type": "markdown",
   "metadata": {},
   "source": [
    "盤面に対して、lineがあるかどうか、あるならどちらの駒かを確認する。\n",
    "```\n",
    "def check_line(state) -> [is_line, is_first_line]:\n",
    "\tstateのboard部分からsurface_boardを作成\n",
    "\t# プレイヤーごとに３目並べの判定をし、もし揃っていたら\n",
    "\t\tis_line = True\n",
    "\t\tis_first_line = そのlineがfirst_playerのものかどうか\n",
    "\t# そろってなかったら, is_lineはFalse\n",
    "\treturn [is_line, is_first_line]\n",
    "```\n",
    "\n",
    "surface_board\n",
    " … boardで上に駒が重なっている駒を0にした。\n",
    "\n",
    "追記: check_result(state) -> [is_done, winner]:に変更  \n",
    "- is_done : lineがあるか\n",
    "- winner : 先手なら0, 後手なら1"
   ]
  },
  {
   "cell_type": "code",
   "execution_count": 130,
   "metadata": {},
   "outputs": [],
   "source": [
    "# 勝敗の有無\n",
    "\n",
    "check_lines = np.array([[0,1,2], [3,4,5], [6,7,8], [0,3,6], [1,4,7], [2,5,8], [0,4,8], [2,4,6]])\n",
    "\n",
    "def is_win(single_surface):\n",
    "  s = single_surface\n",
    "  # 横, 縦, 左斜め, 右斜めのラインを調べる\n",
    "  for check_line in check_lines:\n",
    "    if s[check_line[0]] and s[check_line[1]] and s[check_line[2]]:\n",
    "      return True;\n",
    "  return False;"
   ]
  },
  {
   "cell_type": "code",
   "execution_count": 131,
   "metadata": {},
   "outputs": [
    {
     "name": "stdout",
     "output_type": "stream",
     "text": [
      "False\n",
      "False\n",
      "False\n",
      "True\n"
     ]
    }
   ],
   "source": [
    "# 確認\n",
    "single_surface = np.array([0,0,0,0,0,0,0,0,0])\n",
    "print(is_win(single_surface))\n",
    "single_surface = np.array([1,0,0,0,0,0,0,0,0])\n",
    "print(is_win(single_surface))\n",
    "single_surface = np.array([1,1,0,0,0,0,0,0,0])\n",
    "print(is_win(single_surface))\n",
    "single_surface = np.array([1,1,1,0,0,0,0,0,0])\n",
    "print(is_win(single_surface))"
   ]
  },
  {
   "cell_type": "code",
   "execution_count": 132,
   "metadata": {},
   "outputs": [],
   "source": [
    "# 表面の駒だけbitが立つboardを作成する\n",
    "def create_surface(board):\n",
    "  # boardの変換\n",
    "  board_list_list = [0] * 4\n",
    "  for i in range(4):\n",
    "    board_list_list[i] = list(board[i*9:i*9+9])\n",
    "  board_list_list = np.array(board_list_list)\n",
    "  board_surface = np.array(\n",
    "      [[0,0,0,0,0,0,0,0,0],[0,0,0,0,0,0,0,0,0],\n",
    "       [0,0,0,0,0,0,0,0,0],[0,0,0,0,0,0,0,0,0]])\n",
    "  # M駒を反映させる\n",
    "  board_surface[1] = np.array([int(i_str) for i_str in board_list_list[1]])\n",
    "  board_surface[3] = np.array([int(i_str) for i_str in board_list_list[3]])\n",
    "\n",
    "  # このとき、おいた場所により小さい駒があったら、その駒を0にする\n",
    "  # １マスずつ見ていく\n",
    "  for place in range(9):\n",
    "    # L駒を反映させる\n",
    "    if board_list_list[0][place] == \"1\" or board_list_list[2][place] == \"1\":\n",
    "      if board_list_list[0][place] == \"1\":\n",
    "        board_surface[0][place] = 1\n",
    "      if board_list_list[2][place] == \"1\":\n",
    "        board_surface[2][place] = 1\n",
    "      board_surface[1][place] = 0 # M駒を0にする\n",
    "      board_surface[3][place] = 0\n",
    "  return board_surface"
   ]
  },
  {
   "cell_type": "code",
   "execution_count": 133,
   "metadata": {},
   "outputs": [
    {
     "name": "stdout",
     "output_type": "stream",
     "text": [
      "[[0 0 0 0 0 0 1 0 0]\n",
      " [0 0 0 0 0 0 0 0 0]\n",
      " [0 1 1 0 0 0 0 0 0]\n",
      " [0 0 0 0 1 1 0 1 1]]\n"
     ]
    }
   ],
   "source": [
    "# 確認\n",
    "board = \"000000100001000100011000000000011111\"\n",
    "print(create_surface(board))"
   ]
  },
  {
   "cell_type": "code",
   "execution_count": 134,
   "metadata": {},
   "outputs": [],
   "source": [
    "#勝敗の有無、勝者を確認する\n",
    "def check_result(state):\n",
    "  board = f'{state:060b}'[16:16+36]\n",
    "  board_surface = create_surface(board)\n",
    "  is_done = 0 # 決着がついているなら1を返す\n",
    "  winner = 0 # 先手は0, 後手は1\n",
    "  # 内部でboard_surface[0,1]とboard_surface[2,3]を合成\n",
    "  single_surfaces = np.array([[0,0,0,0,0,0,0,0,0],[0,0,0,0,0,0,0,0,0]])\n",
    "  for i in range(9):\n",
    "    if board_surface[0][i] == 1 or board_surface[1][i] == 1:\n",
    "      single_surfaces[0][i] = 1\n",
    "    elif board_surface[2][i] == 1 or board_surface[3][i] == 1:\n",
    "      single_surfaces[1][i] = 1\n",
    "  if is_win(single_surfaces[0]) == 1 or  is_win(single_surfaces[1]) == 1:\n",
    "    is_done = 1\n",
    "  winner = 1 if is_win(single_surfaces[1]) == 1 else 0\n",
    "  return [is_done, winner]"
   ]
  },
  {
   "cell_type": "code",
   "execution_count": 140,
   "metadata": {},
   "outputs": [
    {
     "name": "stdout",
     "output_type": "stream",
     "text": [
      "0 0\n",
      "1 0\n",
      "1 1\n"
     ]
    }
   ],
   "source": [
    "# 確認\n",
    "state = 0b_1_0_0_0000_000000000_000000000000000000000000000000000000_11111111\n",
    "is_done, winner = check_result(state)\n",
    "print(is_done, winner)\n",
    "# 確認\n",
    "state = 0b_1_0_0_0000_000000000_110000000001000000000000000000000000_00011111\n",
    "is_done, winner = check_result(state)\n",
    "print(is_done, winner)\n",
    "state = 0b_0_0_0_0000_000000000_000000000000000000110000000001000000_11110001\n",
    "is_done, winner = check_result(state)\n",
    "print(is_done, winner)"
   ]
  },
  {
   "cell_type": "markdown",
   "metadata": {},
   "source": [
    "## 全状態の列挙"
   ]
  },
  {
   "cell_type": "code",
   "execution_count": 141,
   "metadata": {},
   "outputs": [],
   "source": [
    "import time\n",
    "from collections import deque\n",
    "import sys\n",
    "from IPython.display import clear_output"
   ]
  },
  {
   "cell_type": "code",
   "execution_count": 142,
   "metadata": {},
   "outputs": [
    {
     "name": "stdout",
     "output_type": "stream",
     "text": [
      "2500\n"
     ]
    },
    {
     "ename": "KeyboardInterrupt",
     "evalue": "",
     "output_type": "error",
     "traceback": [
      "\u001b[0;31m---------------------------------------------------------------------------\u001b[0m",
      "\u001b[0;31mKeyboardInterrupt\u001b[0m                         Traceback (most recent call last)",
      "\u001b[0;32m<timed exec>\u001b[0m in \u001b[0;36m<module>\u001b[0;34m\u001b[0m\n",
      "\u001b[0;32m<ipython-input-89-bd830ba31f3e>\u001b[0m in \u001b[0;36mcreate_next_state\u001b[0;34m(state, action)\u001b[0m\n\u001b[1;32m      6\u001b[0m   \u001b[0;32melse\u001b[0m\u001b[0;34m:\u001b[0m\u001b[0;34m\u001b[0m\u001b[0;34m\u001b[0m\u001b[0m\n\u001b[1;32m      7\u001b[0m     \u001b[0mnext_state\u001b[0m \u001b[0;34m=\u001b[0m \u001b[0mnext_state_from_set_state\u001b[0m\u001b[0;34m(\u001b[0m\u001b[0mstate\u001b[0m\u001b[0;34m,\u001b[0m \u001b[0maction\u001b[0m\u001b[0;34m)\u001b[0m\u001b[0;34m\u001b[0m\u001b[0;34m\u001b[0m\u001b[0m\n\u001b[0;32m----> 8\u001b[0;31m   \u001b[0mnext_state\u001b[0m \u001b[0;34m=\u001b[0m \u001b[0mconvert_normalization_state\u001b[0m\u001b[0;34m(\u001b[0m\u001b[0mnext_state\u001b[0m\u001b[0;34m)\u001b[0m \u001b[0;31m# 下記確認ではコメントアウト\u001b[0m\u001b[0;34m\u001b[0m\u001b[0;34m\u001b[0m\u001b[0m\n\u001b[0m\u001b[1;32m      9\u001b[0m   \u001b[0;32mreturn\u001b[0m \u001b[0mnext_state\u001b[0m\u001b[0;34m\u001b[0m\u001b[0;34m\u001b[0m\u001b[0m\n",
      "\u001b[0;32m<ipython-input-78-e43bc608d156>\u001b[0m in \u001b[0;36mconvert_normalization_state\u001b[0;34m(state)\u001b[0m\n\u001b[1;32m     25\u001b[0m     \u001b[0;32mfor\u001b[0m \u001b[0mi\u001b[0m \u001b[0;32min\u001b[0m \u001b[0mrange\u001b[0m\u001b[0;34m(\u001b[0m\u001b[0;36m4\u001b[0m\u001b[0;34m)\u001b[0m\u001b[0;34m:\u001b[0m\u001b[0;34m\u001b[0m\u001b[0;34m\u001b[0m\u001b[0m\n\u001b[1;32m     26\u001b[0m       \u001b[0;32mfor\u001b[0m \u001b[0mafter_num\u001b[0m\u001b[0;34m,\u001b[0m \u001b[0mbefore_num\u001b[0m \u001b[0;32min\u001b[0m \u001b[0menumerate\u001b[0m\u001b[0;34m(\u001b[0m\u001b[0mconvert_table\u001b[0m\u001b[0;34m)\u001b[0m\u001b[0;34m:\u001b[0m\u001b[0;34m\u001b[0m\u001b[0;34m\u001b[0m\u001b[0m\n\u001b[0;32m---> 27\u001b[0;31m         \u001b[0mcand_board_list\u001b[0m\u001b[0;34m[\u001b[0m\u001b[0mi\u001b[0m\u001b[0;34m*\u001b[0m\u001b[0;36m9\u001b[0m \u001b[0;34m+\u001b[0m \u001b[0mafter_num\u001b[0m\u001b[0;34m]\u001b[0m \u001b[0;34m=\u001b[0m \u001b[0mboard_list\u001b[0m\u001b[0;34m[\u001b[0m\u001b[0mi\u001b[0m\u001b[0;34m*\u001b[0m\u001b[0;36m9\u001b[0m \u001b[0;34m+\u001b[0m \u001b[0mbefore_num\u001b[0m\u001b[0;34m]\u001b[0m\u001b[0;34m\u001b[0m\u001b[0;34m\u001b[0m\u001b[0m\n\u001b[0m\u001b[1;32m     28\u001b[0m     \u001b[0;31m# print(\"cand_board : \" + \"\".join(cand_board_list))  # デバッグ用\u001b[0m\u001b[0;34m\u001b[0m\u001b[0;34m\u001b[0m\u001b[0;34m\u001b[0m\u001b[0m\n\u001b[1;32m     29\u001b[0m     \u001b[0;31m# board_list と cand_board_list を比較\u001b[0m\u001b[0;34m\u001b[0m\u001b[0;34m\u001b[0m\u001b[0;34m\u001b[0m\u001b[0m\n",
      "\u001b[0;31mKeyboardInterrupt\u001b[0m: "
     ]
    }
   ],
   "source": [
    "%%time\n",
    "\n",
    "# 到達可能な全盤面を作成する\n",
    "# 発見 -> 未訪問 -> 訪問済み の流れ。\n",
    "\n",
    "q = deque() # 発見キュー\n",
    "all_states = set() # 訪問済み\n",
    "\n",
    "# 初期状態の追加\n",
    "init_state = 0b_1_0_0_0000_000000000_000000000000000000000000000000000000_11111111\n",
    "q.append(convert_normalization_state(init_state))\n",
    "# qが空になるまで探索\n",
    "cnt = 0\n",
    "while q: \n",
    "  cnt += 1\n",
    "  if cnt % 100 == 0:\n",
    "    clear_output(wait=True)\n",
    "    print(cnt)\n",
    "    time.sleep(0.001) #1msの休止\n",
    "  current_state = q.popleft()\n",
    "  if current_state not in all_states: # current_stateがまだ訪問済みでないなら\n",
    "    all_states.add(current_state) # 訪問済みに追加\n",
    "    is_done, winner = check_result(current_state)\n",
    "    if not is_done: # 勝敗決定盤面でないなら\n",
    "      for action in legal_actions(current_state): # 合法手を列挙\n",
    "        q.append(create_next_state(current_state, action)) #次の状態(正規化済)をqに追加\n",
    "        \n",
    "# list化してソート\n",
    "allstates = list(all_states)\n",
    "allstates.sort()\n",
    "\n",
    "# 状態の確認\n",
    "clear_output(wait=True)\n",
    "print(f'状態数: {len(allstates)}')\n",
    "print(f'サイズ: {sys.getsizeof(allstates)} byte')\n",
    "print(f'loop回数: {cnt}')"
   ]
  },
  {
   "cell_type": "code",
   "execution_count": 96,
   "metadata": {},
   "outputs": [
    {
     "ename": "NameError",
     "evalue": "name 'allstates' is not defined",
     "output_type": "error",
     "traceback": [
      "\u001b[0;31m---------------------------------------------------------------------------\u001b[0m",
      "\u001b[0;31mNameError\u001b[0m                                 Traceback (most recent call last)",
      "\u001b[0;32m<ipython-input-96-85a1db27ecdb>\u001b[0m in \u001b[0;36m<module>\u001b[0;34m\u001b[0m\n\u001b[1;32m      2\u001b[0m \u001b[0;32mimport\u001b[0m \u001b[0mpickle\u001b[0m\u001b[0;34m\u001b[0m\u001b[0;34m\u001b[0m\u001b[0m\n\u001b[1;32m      3\u001b[0m \u001b[0;32mwith\u001b[0m \u001b[0mopen\u001b[0m\u001b[0;34m(\u001b[0m\u001b[0;34m'allstates.pickle'\u001b[0m\u001b[0;34m,\u001b[0m \u001b[0;34m'wb'\u001b[0m\u001b[0;34m)\u001b[0m \u001b[0;32mas\u001b[0m \u001b[0mf\u001b[0m\u001b[0;34m:\u001b[0m\u001b[0;34m\u001b[0m\u001b[0;34m\u001b[0m\u001b[0m\n\u001b[0;32m----> 4\u001b[0;31m     \u001b[0mpickle\u001b[0m\u001b[0;34m.\u001b[0m\u001b[0mdump\u001b[0m\u001b[0;34m(\u001b[0m\u001b[0mallstates\u001b[0m\u001b[0;34m,\u001b[0m \u001b[0mf\u001b[0m\u001b[0;34m)\u001b[0m\u001b[0;34m\u001b[0m\u001b[0;34m\u001b[0m\u001b[0m\n\u001b[0m",
      "\u001b[0;31mNameError\u001b[0m: name 'allstates' is not defined"
     ]
    }
   ],
   "source": [
    "# pickleで保存\n",
    "import pickle\n",
    "with open('allstates.pickle', 'wb') as f:\n",
    "    pickle.dump(allstates, f)"
   ]
  },
  {
   "cell_type": "markdown",
   "metadata": {},
   "source": [
    "## 全状態の合法手を列挙"
   ]
  },
  {
   "cell_type": "code",
   "execution_count": null,
   "metadata": {},
   "outputs": [],
   "source": [
    "# allstatesを非pickle化\n",
    "with open('allstates.pickle', 'rb') as f:\n",
    "    allstates = pickle.load(f)\n",
    "\n",
    "# allLegalActionsを全状態数分用意する\n",
    "# allLegalActions[i]... allstates[i]の合法手一覧\n",
    "allLegalActions = [[]] * len(allstates)\n",
    "print(len(allstates))"
   ]
  },
  {
   "cell_type": "code",
   "execution_count": 225,
   "metadata": {},
   "outputs": [
    {
     "data": {
      "application/vnd.jupyter.widget-view+json": {
       "model_id": "49314bb6a88a4741bc43d303dadaac5f",
       "version_major": 2,
       "version_minor": 0
      },
      "text/plain": [
       "HBox(children=(HTML(value='合法手を計算'), FloatProgress(value=0.0, max=5116724.0), HTML(value='')))"
      ]
     },
     "metadata": {},
     "output_type": "display_data"
    },
    {
     "name": "stdout",
     "output_type": "stream",
     "text": [
      "\n"
     ]
    }
   ],
   "source": [
    "# allLegalActionsの作成\n",
    "\n",
    "for i, state in enumerate(tqdm(allstates, desc=\"合法手を計算\", leave=True)):\n",
    "  is_done, winner = check_result(state)\n",
    "  if is_done: # 終了盤面    \n",
    "    allLegalActions[i] = legal_actions(state)\n",
    "  else:\n",
    "      pass; # []のまま\n"
   ]
  },
  {
   "cell_type": "code",
   "execution_count": 226,
   "metadata": {},
   "outputs": [],
   "source": [
    "# pickleで保存\n",
    "with open('allLegalActions.pickle', 'wb') as f:\n",
    "    pickle.dump(allLegalActions, f)"
   ]
  },
  {
   "cell_type": "markdown",
   "metadata": {},
   "source": [
    "## 全状態の次の状態を列挙"
   ]
  },
  {
   "cell_type": "code",
   "execution_count": 232,
   "metadata": {},
   "outputs": [
    {
     "name": "stdout",
     "output_type": "stream",
     "text": [
      "5116724\n"
     ]
    }
   ],
   "source": [
    "# allstates, allLegalActionsを非pickle化\n",
    "with open('allstates.pickle', 'rb') as f:\n",
    "    allstates = pickle.load(f)\n",
    "with open('allLegalActions.pickle', 'rb') as f:\n",
    "    allLegalActions = pickle.load(f)\n",
    "\n",
    "# allNextStatesを全状態数分用意する\n",
    "# allNextStates[i]... allstates[i]の次の状態一覧\n",
    "allNextStates = [[]] * len(allstates)\n",
    "print(len(allNextStates))"
   ]
  },
  {
   "cell_type": "code",
   "execution_count": 233,
   "metadata": {},
   "outputs": [
    {
     "data": {
      "application/vnd.jupyter.widget-view+json": {
       "model_id": "532c62519bc5443890e444b3dbe0e8e9",
       "version_major": 2,
       "version_minor": 0
      },
      "text/plain": [
       "HBox(children=(HTML(value='allNextStatesの作成'), FloatProgress(value=0.0, max=5116724.0), HTML(value='')))"
      ]
     },
     "metadata": {},
     "output_type": "display_data"
    },
    {
     "name": "stdout",
     "output_type": "stream",
     "text": [
      "\n"
     ]
    }
   ],
   "source": [
    "# allNextStatesの作成\n",
    "for i, state in enumerate(tqdm(allstates, desc=\"allNextStatesの作成\", leave=True)):\n",
    "  is_done, winner = check_result(state)\n",
    "  if not is_done: # 終了盤面\n",
    "    next_states = []\n",
    "    for action in allLegalActions[i]: # 合法手をallLegalActionsから取ってくる\n",
    "      next_state = create_next_state(state, action)\n",
    "      next_states.append(next_state)\n",
    "    allNextStates[i] = next_states\n",
    "  else:\n",
    "    pass; # 末端は[]のまま"
   ]
  },
  {
   "cell_type": "code",
   "execution_count": 234,
   "metadata": {},
   "outputs": [],
   "source": [
    "# pickleで保存\n",
    "with open('allNextStates.pickle', 'wb') as f:\n",
    "    pickle.dump(allNextStates, f)"
   ]
  },
  {
   "cell_type": "markdown",
   "metadata": {},
   "source": [
    "## 後退解析"
   ]
  },
  {
   "cell_type": "markdown",
   "metadata": {},
   "source": [
    "### 追加関数"
   ]
  },
  {
   "cell_type": "code",
   "execution_count": 210,
   "metadata": {},
   "outputs": [],
   "source": [
    "# # 過去\n",
    "# # 勝敗判定を行う\n",
    "# # 勝ち色を返す (1...R, -1...B, 未確定なら0)\n",
    "# # 組み込んだ\n",
    "# def newWinLose(arg_allstates, arg_winLose, arg_state):\n",
    "#   is_first = int(f'{arg_state:060b}'[0])\n",
    "#   turn_color = 1 if is_first == 1 else -1\n",
    "#   alllose = True;\n",
    "#   for action in legal_actions(state): # 合法手を列挙\n",
    "#     next_state = create_next_state(arg_state, action)\n",
    "#     i1 = arg_allstates.index(next_state)\n",
    "#     if arg_winLose[i1] == turn_color: # 勝ち盤面が１つでもあればそれを指せば勝ち\n",
    "#       return turn_color;\n",
    "#     if arg_winLose[i1] == 0:\n",
    "#       alllose = False;\n",
    "#   if alllose: # 次の手がすべて相手の勝ち盤面なら相手の勝ち\n",
    "#     return -turn_color;\n",
    "#   else:\n",
    "#     return 0;"
   ]
  },
  {
   "cell_type": "code",
   "execution_count": 244,
   "metadata": {},
   "outputs": [],
   "source": [
    "# allstates, allLegalActions, allNextStatesをを用いて勝敗判定を行う\n",
    "\n",
    "# allstates, allLegalActions, allNextStatesを非pickle化\n",
    "with open('allstates.pickle', 'rb') as f:\n",
    "    allstates = pickle.load(f)\n",
    "with open('allLegalActions.pickle', 'rb') as f:\n",
    "    allLegalActions = pickle.load(f)\n",
    "with open('allNextStates.pickle', 'wb') as f:\n",
    "    pickle.dump(allNextStates, f)\n",
    "\n",
    "def newWinLose(arg_allstates, arg_winLose, arg_state, arg_allNextStates):\n",
    "  is_first = int(f'{arg_state:060b}'[0])\n",
    "  turn_color = 1 if is_first == 1 else -1\n",
    "  alllose = True;\n",
    "  i = arg_allstates.index(arg_state)\n",
    "  for next_state in arg_allNextStates[i]:\n",
    "    i1 = arg_allstates.index(next_state)\n",
    "    if arg_winLose[i1] == turn_color: # 勝ち盤面が１つでもあればそれを指せば勝ち\n",
    "      return turn_color;\n",
    "    if arg_winLose[i1] == 0:\n",
    "      alllose = False;\n",
    "  if alllose: # 次の手がすべて相手の勝ち盤面なら相手の勝ち\n",
    "    return -turn_color;\n",
    "  else:\n",
    "    return 0;"
   ]
  },
  {
   "cell_type": "markdown",
   "metadata": {},
   "source": [
    "### 処理"
   ]
  },
  {
   "cell_type": "code",
   "execution_count": 247,
   "metadata": {},
   "outputs": [
    {
     "name": "stdout",
     "output_type": "stream",
     "text": [
      "5116724\n"
     ]
    }
   ],
   "source": [
    "# allstates, allLegalActions, allNextStatesを非pickle化\n",
    "with open('allstates.pickle', 'rb') as f:\n",
    "    allstates = pickle.load(f)\n",
    "with open('allLegalActions.pickle', 'rb') as f:\n",
    "    allLegalActions = pickle.load(f)\n",
    "with open('allNextStates.pickle', 'wb') as f:\n",
    "    pickle.dump(allNextStates, f)\n",
    "\n",
    "# winLose, winLoseCountを全状態数分用意する\n",
    "# winLose[i]... allstates[i]の勝敗. 未確定が0, R勝ちが1, B勝ちが-1\n",
    "# winLoseCount ... allstates[i]が決着までかかる手数\n",
    "winLose = [0] * len(allstates)  # その盤面の勝敗 0は未確定, 1はR, -1はB\n",
    "winLoseCount = [0] * len(allstates) # 勝敗にかかるまでの手数\n",
    "count= {\"Redwin\": 0, \"Bluewin\" : 0, \"yet\" : 0}\n",
    "print(len(allstates))\n"
   ]
  },
  {
   "cell_type": "code",
   "execution_count": 206,
   "metadata": {},
   "outputs": [
    {
     "data": {
      "application/vnd.jupyter.widget-view+json": {
       "model_id": "61c40e2a27b54248812a64b957293db5",
       "version_major": 2,
       "version_minor": 0
      },
      "text/plain": [
       "HBox(children=(HTML(value='進捗'), FloatProgress(value=0.0), HTML(value='')))"
      ]
     },
     "metadata": {},
     "output_type": "display_data"
    },
    {
     "name": "stdout",
     "output_type": "stream",
     "text": [
      "\n"
     ]
    }
   ],
   "source": [
    "# 進行バー\n",
    "from tqdm.notebook import tqdm as tqdm\n",
    "for i in tqdm(range(100), desc=\"進捗\", leave=True ):\n",
    "  time.sleep(0.1)"
   ]
  },
  {
   "cell_type": "code",
   "execution_count": null,
   "metadata": {},
   "outputs": [
    {
     "data": {
      "application/vnd.jupyter.widget-view+json": {
       "model_id": "faf91b8e3360470ab9bd75c0f349ba87",
       "version_major": 2,
       "version_minor": 0
      },
      "text/plain": [
       "HBox(children=(HTML(value='初回の勝敗判定'), FloatProgress(value=0.0, max=5116724.0), HTML(value='')))"
      ]
     },
     "metadata": {},
     "output_type": "display_data"
    },
    {
     "name": "stdout",
     "output_type": "stream",
     "text": [
      "\n",
      "後退解析開始\n",
      "iteration 1\n",
      "Redwin : 72153, Bluewin : 192818, yet : 4851753\n"
     ]
    },
    {
     "data": {
      "application/vnd.jupyter.widget-view+json": {
       "model_id": "96205a4f3df643f19d792a32db0c0361",
       "version_major": 2,
       "version_minor": 0
      },
      "text/plain": [
       "HBox(children=(HTML(value='iteration 1'), FloatProgress(value=0.0, max=5116724.0), HTML(value='')))"
      ]
     },
     "metadata": {},
     "output_type": "display_data"
    }
   ],
   "source": [
    "%%time\n",
    "\n",
    "# 現在の盤面のwinLoseを記録\n",
    "for i, state in enumerate(tqdm(allstates, desc=\"初回の勝敗判定\", leave=True)):\n",
    "  is_done, winner = check_result(state)\n",
    "  if is_done: # 終了盤面\n",
    "    if winner == 0: #FIRST_PLAYER RED\n",
    "      winLose[i]=1;\n",
    "      count[\"Redwin\"] += 1;\n",
    "    elif winner == 1: #SECOND_PLAYER BLUE\n",
    "      winLose[i]=-1;\n",
    "      count[\"Bluewin\"] += 1;\n",
    "  else:\n",
    "      winLose[i]=0;\n",
    "      count[\"yet\"] += 1;\n",
    "\n",
    "print(\"後退解析開始\")\n",
    "c = 0 # 手数\n",
    "while True:\n",
    "  # 勝敗のカウント\n",
    "  c += 1;\n",
    "  print(f'iteration {c}')\n",
    "  print(f'Redwin : {count[\"Redwin\"]}, Bluewin : {count[\"Bluewin\"]}, yet : {count[\"yet\"]}')\n",
    "  # 解析終了フラグ\n",
    "  changed = False \n",
    "  # 解析\n",
    "  for i, state in enumerate(tqdm(allstates, desc=f'iteration {c}', leave=True)):\n",
    "    if winLose[i] == 0: # 未決着の盤面のみ判定する\n",
    "      nv = newWinLose(allstates, winLose, state, allNextStates) # 勝敗\n",
    "      if nv != 0:\n",
    "        winLose[i] = nv # この状態の理論値を入力\n",
    "        winLoseCount[i] = c # 勝敗にかかるまでの手数を入力\n",
    "        if nv == 1:\n",
    "          count[\"Redwin\"] += 1;#決着の盤面数を増やす\n",
    "        elif nv == -1:\n",
    "          count[\"Bluewin\"] += 1;\n",
    "        count[\"yet\"] -= 1; # 未決着盤面数をへらす\n",
    "        changed = True # 解析継続\n",
    "  if not changed:\n",
    "    break;\n",
    "\n",
    "print(\"解析終了\")\n",
    "print(f'Redwin : {count[\"Redwin\"]}')\n",
    "print(f'Bluewin : {count[\"Bluewin\"]}')\n",
    "print(f'あいこ : {count[\"yet\"]}')\n",
    "print(f'ループ回数 : {c}')"
   ]
  },
  {
   "cell_type": "code",
   "execution_count": 189,
   "metadata": {},
   "outputs": [],
   "source": [
    "# winLose, winLoseCountをpickle化\n",
    "# import pickle\n",
    "# with open('winLose.pickle', 'wb') as f:\n",
    "#     pickle.dump(winLose, f)\n",
    "# with open('winLoseCount.pickle', 'wb') as f:\n",
    "#     pickle.dump(winLoseCount, f)\n"
   ]
  }
 ],
 "metadata": {
  "kernelspec": {
   "display_name": "Python 3",
   "language": "python",
   "name": "python3"
  },
  "language_info": {
   "codemirror_mode": {
    "name": "ipython",
    "version": 3
   },
   "file_extension": ".py",
   "mimetype": "text/x-python",
   "name": "python",
   "nbconvert_exporter": "python",
   "pygments_lexer": "ipython3",
   "version": "3.7.6"
  }
 },
 "nbformat": 4,
 "nbformat_minor": 4
}
