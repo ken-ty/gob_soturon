{
 "cells": [
  {
   "cell_type": "markdown",
   "metadata": {},
   "source": [
    "# Pythonでゴブレットゴブラーズ(簡易)のゲーム木を作成する\n",
    "\n",
    "- [ゴブレットゴブラーズ (日本語版)](https://sgrk.blog.fc2.com/blog-entry-3687.html)\n",
    "- [ソースコード設計スライド](https://docs.google.com/presentation/d/1K8fbRlk24Y_J3M--F-WnYYN0hddL89w3EGN4Zgw-L1g/edit?usp=sharing)\n",
    "\n",
    "- [卒論概要](https://docs.google.com/document/d/1jEXvVmpUPCaowl3xR1qgyhUFGVHFVzyZjBo9F8OAR7M/edit?usp=sharing)"
   ]
  },
  {
   "cell_type": "markdown",
   "metadata": {},
   "source": [
    "## 関数宣言"
   ]
  },
  {
   "cell_type": "markdown",
   "metadata": {},
   "source": [
    "### 正規化"
   ]
  },
  {
   "cell_type": "code",
   "execution_count": 2,
   "metadata": {},
   "outputs": [],
   "source": [
    "def convert_normalization_state(state):\n",
    "  is_first = f'{state:060b}'[0]\n",
    "  is_choise = f'{state:060b}'[1]\n",
    "  is_choise_board = f'{state:060b}'[2]\n",
    "  choise_piece_type = f'{state:060b}'[3:3+4]\n",
    "  choise_piece = f'{state:060b}'[7:7+9]\n",
    "  board = f'{state:060b}'[16:16+36]\n",
    "  hand = f'{state:060b}'[52:52+8]\n",
    "\n",
    "  # 変換表を定義\n",
    "  convert_tables = [[6,3,0,7,4,1,8,5,2],[8,7,6,5,4,3,2,1,0],\n",
    "                    [2,5,8,1,4,7,0,3,6],[2,1,0,5,4,3,8,7,6],\n",
    "                    [6,7,8,3,4,5,0,1,2],[0,3,6,1,4,7,2,5,8],[8,5,2,7,4,1,6,3,0]]\n",
    "\n",
    "  # 変換表でboardを変換したcand_boardを作成し、boardと比較して小さいなら上書きする\n",
    "  # もしより小さい候補が見つかったら、それと同じ変換表でchoise_pieceも変換する\n",
    "  board_list = list(board)\n",
    "  choise_piece_list = list(choise_piece)\n",
    "  for convert_table in convert_tables:\n",
    "    cand_board_list = [0] * 36\n",
    "    for i in range(4):\n",
    "      for after_num, before_num in enumerate(convert_table):\n",
    "        cand_board_list[i*9 + after_num] = board_list[i*9 + before_num]\n",
    "    # print(\"cand_board : \" + \"\".join(cand_board_list))  # デバッグ用\n",
    "    # board_list と cand_board_list を比較\n",
    "    if board_list > cand_board_list:\n",
    "      board_list = cand_board_list # 上書き\n",
    "      for after_num, before_num in enumerate(convert_table): # choise_pieceの変換\n",
    "        choise_piece_list[after_num] = choise_piece_list[before_num]\n",
    "\n",
    "  # board_list, choise_piece_listをboard, choise_pieceに変換\n",
    "  board = \"\".join(board_list)\n",
    "  choise_piece = \"\".join(choise_piece_list)\n",
    "\n",
    "  normalization_state = int(is_first + is_choise + is_choise_board + choise_piece_type + choise_piece + board + hand, 2)\n",
    "  return normalization_state"
   ]
  },
  {
   "cell_type": "markdown",
   "metadata": {},
   "source": [
    "### 合法手"
   ]
  },
  {
   "cell_type": "code",
   "execution_count": 3,
   "metadata": {},
   "outputs": [],
   "source": [
    "def leagal_actions_from_choise_state(choise_state):\n",
    "  is_choise_board = f'{choise_state:060b}'[2]\n",
    "  choise_piece_type = f'{choise_state:060b}'[3:3+4]\n",
    "  choise_piece = f'{choise_state:060b}'[7:7+9]\n",
    "  board = f'{choise_state:060b}'[16:16+36]  \n",
    "\n",
    "  # set_actions_bitを作成\n",
    "  set_actions_bit = f'{0:036b}' # 36bit。すべての駒と位置が行動不能で初期化\n",
    "  # choiseしている駒と同じ駒は行動できる。\n",
    "  cpy_f = choise_piece_type.find('1')\n",
    "  set_actions_bit = set_actions_bit[:9*cpy_f] + '111111111' + set_actions_bit[9*(cpy_f+1):]\n",
    "  # choiseしている駒がboardの駒なら、そのマスに行動出来ない\n",
    "  if is_choise_board == '1': \n",
    "    cp_f = choise_piece.find('1')\n",
    "    set_actions_bit = set_actions_bit[:9*cpy_f+cp_f] + '0' + set_actions_bit[9*cpy_f+cp_f+1:]\n",
    "  # choiseした駒以上の大きさの駒があるマスには行動できない。\n",
    "  for mass in range(9):\n",
    "    if board[mass] == '1' or board[mass+18] == \"1\": # L駒があるか\n",
    "      set_actions_bit = set_actions_bit[:9*cpy_f+mass] + '0' + set_actions_bit[9*cpy_f+mass+1:]\n",
    "    if cpy_f in [1,3]: #選択してあるこまがMなら\n",
    "      if board[mass+9] == '1' or board[mass+18+9] == \"1\": # M駒があるか\n",
    "        set_actions_bit = set_actions_bit[:9*cpy_f+mass] + '0' + set_actions_bit[9*cpy_f+mass+1:]\n",
    "\n",
    "  # actions_bitをactionsに変換\n",
    "  set_actions = []\n",
    "  for i, bit in enumerate(set_actions_bit):\n",
    "    if bit == '1':\n",
    "      set_action = int('0b_1_0000_000000000', 2)\n",
    "      set_action = int(f'{set_action:014b}'[:1+(i//9)] + '1' + f'{set_action:014b}'[1+(i//9)+1:], 2) # 駒の種類の反映\n",
    "      set_action = int(f'{set_action:014b}'[:1+4+(i%9)] + '1' + f'{set_action:014b}'[1+4+(i%9)+1:], 2) # 駒の位置の反映\n",
    "      set_actions.append(set_action)\n",
    "\n",
    "  return set_actions"
   ]
  },
  {
   "cell_type": "code",
   "execution_count": 4,
   "metadata": {},
   "outputs": [],
   "source": [
    "def leagal_actions_from_set_state(set_state):\n",
    "  is_first = f'{set_state:060b}'[0]\n",
    "  board = f'{set_state:060b}'[16:16+36]\n",
    "  hand = f'{set_state:060b}'[52:52+8]\n",
    "\n",
    "  # 盤面の各マスに駒が存在するかどうか\n",
    "  exist_place = f'{int(board[0:9], 2) | int(board[9:18], 2) | int(board[18:27], 2) | int(board[27:36], 2) :09b}' \n",
    "  # 手駒は,\n",
    "  choise_hand_actions_bit = '1111'\n",
    "  for piece_type in range(4): # 手駒にその駒が１つもないなら行動不可\n",
    "    if hand[piece_type*2:piece_type*2+2] == \"00\": \n",
    "      choise_hand_actions_bit = choise_hand_actions_bit[:piece_type] + '0' + choise_hand_actions_bit[piece_type+1:]\n",
    "  if is_first == \"1\": # 先手なら、先手の駒しか動かせない\n",
    "    choise_hand_actions_bit = choise_hand_actions_bit[:2] + '00'\n",
    "  else: # 後手なら、後手の駒しか動かせない\n",
    "    choise_hand_actions_bit = '00' + choise_hand_actions_bit[2:]\n",
    "  # 盤上の駒は、\n",
    "  exist_large_place = int(board[0:9], 2) | int(board[18:27], 2)\n",
    "  exist_middle_place = int(board[9:18], 2) | int(board[27:36], 2)\n",
    "  # 盤上の一番表面にある駒しか行動できない\n",
    "  choise_board_actions_bit = board[0:9] \\\n",
    "   + f'{int(board[9:18], 2) & ~exist_large_place :09b}' \\\n",
    "   + board[18:27] \\\n",
    "   + f'{int(board[27:36], 2) & ~exist_large_place :09b}'\n",
    "  if is_first == \"1\": # 先手なら、先手の駒しか動かせない\n",
    "    choise_board_actions_bit = choise_board_actions_bit[:18] + '000000000000000000'\n",
    "  else: # 後手なら、後手の駒しか動かせない\n",
    "    choise_board_actions_bit = '000000000000000000' + choise_board_actions_bit[18:]\n",
    "\n",
    "  # choise_hand_actions_bitをchoise_actionsへchoise_actionに変換しながら追加\n",
    "  choise_actions = []\n",
    "  for i, bit in enumerate(choise_hand_actions_bit): # choise_hand_actions_bit = '00_00\n",
    "    if bit == '1':\n",
    "      choise_action = int('0b_0_0000_000000000', 2)\n",
    "      choise_action = int(f'{choise_action:014b}'[:1+i] + '1' + f'{choise_action:014b}'[1+i+1:], 2) # 駒の種類の反映\n",
    "      choise_actions.append(choise_action)\n",
    "\n",
    "  # choise_board_actions_bitをchoise_actionsへchoise_actionに変換しながら追加\n",
    "  for i, bit in enumerate(choise_board_actions_bit): # choise_board_actions_bit = '000000000_000000000_000000000_000000000'\n",
    "    if bit == '1':\n",
    "      choise_action = int('0b_1_0000_000000000', 2)\n",
    "      choise_action = int(f'{choise_action:014b}'[:1+(i//9)] + '1' + f'{choise_action:014b}'[1+(i//9)+1:], 2) # 駒の種類の反映\n",
    "      choise_action = int(f'{choise_action:014b}'[:1+4+(i%9)] + '1' + f'{choise_action:014b}'[1+4+(i%9)+1:], 2) # 駒の位置の反映\n",
    "      choise_actions.append(choise_action)\n",
    "\n",
    "  return choise_actions"
   ]
  },
  {
   "cell_type": "code",
   "execution_count": 5,
   "metadata": {},
   "outputs": [],
   "source": [
    "def legal_actions(state):\n",
    "  actions = []\n",
    "  if f'{state:060b}'[1] == '1':\n",
    "    actions = leagal_actions_from_choise_state(state)\n",
    "  else:\n",
    "    actions = leagal_actions_from_set_state(state)\n",
    "  return actions"
   ]
  },
  {
   "cell_type": "markdown",
   "metadata": {},
   "source": [
    "### 次の手"
   ]
  },
  {
   "cell_type": "code",
   "execution_count": 6,
   "metadata": {},
   "outputs": [],
   "source": [
    "def next_state_from_choise_state(choise_state, set_action):   \n",
    "  is_first = f'{choise_state:060b}'[0]\n",
    "  is_choise_board = f'{choise_state:060b}'[2]\n",
    "  choise_piece_type = f'{choise_state:060b}'[3:3+4]\n",
    "  choise_piece = f'{choise_state:060b}'[7:7+9]\n",
    "  board = f'{choise_state:060b}'[16:16+36]\n",
    "  hand = f'{choise_state:060b}'[52:52+8]\n",
    "\n",
    "\t# set_actionで選択している駒と位置を、boardで1にする。\n",
    "  piece_type = f'{set_action:014b}'[1:5].find('1')\n",
    "  piece_place = f'{set_action:014b}'[5:].find('1')\n",
    "  board = board[:piece_type*9+piece_place] + '1' +  board[piece_type*9+piece_place+1:] \n",
    "\n",
    "\t# 手番プレイヤーの交代 … is_firstを反転\n",
    "  is_first = \"0\" if is_first == \"1\" else \"1\"\n",
    "\t# stateのモードを切り替える...is_choiseを0にする\n",
    "  is_choise = \"0\"\n",
    "  # is_choise_board, choise_piece_type, choise_piece をすべて0埋め\n",
    "  is_choise_board = \"0\"\n",
    "  choise_piece_type = \"0000\"\n",
    "  choise_piece = \"000000000\"\n",
    "\n",
    "  # next_stateの作成\n",
    "  next_state = int(is_first + is_choise + is_choise_board + choise_piece_type + choise_piece + board + hand, 2)\n",
    "  return next_state"
   ]
  },
  {
   "cell_type": "code",
   "execution_count": 7,
   "metadata": {},
   "outputs": [],
   "source": [
    "def next_state_from_set_state(set_state, choise_action):\n",
    "  is_first = f'{set_state:060b}'[0]\n",
    "  is_choise_board = f'{set_state:060b}'[2]\n",
    "  choise_piece_type = f'{set_state:060b}'[3:3+4]\n",
    "  choise_piece = f'{set_state:060b}'[7:7+9]\n",
    "  board = f'{set_state:060b}'[16:16+36]\n",
    "  hand = f'{set_state:060b}'[52:52+8]\n",
    "\n",
    "\t# stateのモードを切り替える...is_choiseを1にする\n",
    "  is_choise = \"1\"\n",
    "  # choise_actionをis_choise_board, choise_piece_type, choise_piece に反映する\n",
    "  is_choise_board = f'{choise_action:014b}'[0]\n",
    "  choise_piece_type = f'{choise_action:014b}'[1:5]\n",
    "  choise_piece =  f'{choise_action:014b}'[5:14]\n",
    "  # 選択した駒をboard, handから取り除く\n",
    "  piece_type = f'{choise_action:014b}'[1:5].find('1')\n",
    "  piece_place = f'{choise_action:014b}'[5:].find('1')\n",
    "  if f'{choise_action:014b}'[0] == \"1\":   # choise_actionで盤の駒を選択しているなら\n",
    "    # choise_actionで選択している駒と位置を、boardで0にする。\n",
    "    board = board[:piece_type*9+piece_place] + '0' +  board[piece_type*9+piece_place+1:] \n",
    "  # choise_actionで選択している駒の数を、handで1減らす。\n",
    "  # “00”...その駒は持ってない, “01”...一つ持ってる, “11”...２つ持ってる\t\n",
    "  if hand[piece_type*2:piece_type*2+2] == \"11\":\n",
    "    hand = hand[:piece_type*2] + \"01\" + hand[piece_type*2+2:]\n",
    "  else: # hand[piece_type*2:piece_type*2+2] == \"01\":\n",
    "    hand = hand[:piece_type*2] + \"00\" + hand[piece_type*2+2:]\n",
    "\n",
    "  # next_stateの作成\n",
    "  next_state = int(is_first + is_choise + is_choise_board + choise_piece_type + choise_piece + board + hand, 2)\n",
    "  return next_state"
   ]
  },
  {
   "cell_type": "code",
   "execution_count": 8,
   "metadata": {},
   "outputs": [],
   "source": [
    "def create_next_state(state, action):\n",
    "  is_choise = f'{state:060b}'[1]\n",
    "  next_state = 0\n",
    "  if is_choise == \"1\":\n",
    "    next_state = next_state_from_choise_state(state, action)\n",
    "  else:\n",
    "    next_state = next_state_from_set_state(state, action)\n",
    "  next_state = convert_normalization_state(next_state) # 下記確認ではコメントアウト\n",
    "  return next_state"
   ]
  },
  {
   "cell_type": "markdown",
   "metadata": {},
   "source": [
    "### 盤面から勝敗確定かチェック"
   ]
  },
  {
   "cell_type": "code",
   "execution_count": 9,
   "metadata": {},
   "outputs": [],
   "source": [
    "# 勝敗の有無\n",
    "def is_win(single_surface):\n",
    "  s = single_surface\n",
    "  # 横, 縦, 左斜め, 右斜めのラインを調べる\n",
    "  check_lines = [[0,1,2], [3,4,5], [6,7,8], [0,3,6], [1,4,7], [2,5,8], [0,4,8], [2,4,6]]\n",
    "  for check_line in check_lines:\n",
    "    if s[check_line[0]] and s[check_line[1]] and s[check_line[2]]:\n",
    "      return True;\n",
    "  return False;"
   ]
  },
  {
   "cell_type": "code",
   "execution_count": 10,
   "metadata": {},
   "outputs": [],
   "source": [
    "# 表面の駒だけbitが立つboardを作成する\n",
    "def create_surface(board):\n",
    "  # boardの変換\n",
    "  board_list_list = [0] * 4\n",
    "  for i in range(4):\n",
    "    board_list_list[i] = list(board[i*9:i*9+9])\n",
    "  board_surface = [[0,0,0,0,0,0,0,0,0],[0,0,0,0,0,0,0,0,0],\n",
    "                   [0,0,0,0,0,0,0,0,0],[0,0,0,0,0,0,0,0,0]]\n",
    "  # M駒を反映させる\n",
    "  board_surface[1] = board_list_list[1]\n",
    "  board_surface[3] = board_list_list[3]\n",
    "  # このとき、おいた場所により小さい駒があったら、その駒を0にする\n",
    "  # １マスずつ見ていく\n",
    "  for place in range(9):\n",
    "    # L駒を反映させる\n",
    "    if board_list_list[0][place] == \"1\" or board_list_list[2][place] == \"1\":\n",
    "      if board_list_list[0][place] == \"1\":\n",
    "        board_surface[0][place] = 1\n",
    "      if board_list_list[2][place] == \"1\":\n",
    "        board_surface[2][place] = 1\n",
    "      board_surface[1][place] = 0 # M駒を0にする\n",
    "      board_surface[3][place] = 0\n",
    "  return board_surface"
   ]
  },
  {
   "cell_type": "code",
   "execution_count": 11,
   "metadata": {},
   "outputs": [],
   "source": [
    "#勝敗の有無、勝者を確認する\n",
    "def check_result(state):\n",
    "  board = f'{state:060b}'[16:16+36]\n",
    "  board_surface = create_surface(board)\n",
    "  is_done = 0 # 決着がついているなら1を返す\n",
    "  winner = 0 # 先手は0, 後手は1\n",
    "  # 内部でboard_surface[0,1]とboard_surface[2,3]を合成\n",
    "  single_surfaces = [[0,0,0,0,0,0,0,0,0],[0,0,0,0,0,0,0,0,0]];\n",
    "  for i in range(9):\n",
    "    if board_surface[0][i] == 1 or board_surface[1][i] == 1:\n",
    "      single_surfaces[0][i] = 1\n",
    "    elif board_surface[2][i] == 1 or board_surface[3][i] == 1:\n",
    "      single_surfaces[1][i] = 1\n",
    "  is_done = is_win(single_surfaces[0]) == 1 or is_win(single_surfaces[1]) == 1\n",
    "  winner = 1 if is_win(single_surfaces[1]) == 1 else 0\n",
    "  return [is_done, winner]"
   ]
  },
  {
   "cell_type": "markdown",
   "metadata": {},
   "source": [
    "## 全状態の列挙"
   ]
  },
  {
   "cell_type": "code",
   "execution_count": 20,
   "metadata": {},
   "outputs": [],
   "source": [
    "import time\n",
    "from collections import deque\n",
    "import sys\n",
    "from IPython.display import clear_output"
   ]
  },
  {
   "cell_type": "code",
   "execution_count": 22,
   "metadata": {},
   "outputs": [
    {
     "name": "stdout",
     "output_type": "stream",
     "text": [
      "1276500\n"
     ]
    },
    {
     "ename": "KeyboardInterrupt",
     "evalue": "",
     "output_type": "error",
     "traceback": [
      "\u001b[1;31m---------------------------------------------------------------------------\u001b[0m",
      "\u001b[1;31mKeyboardInterrupt\u001b[0m                         Traceback (most recent call last)",
      "\u001b[1;32m<timed exec>\u001b[0m in \u001b[0;36m<module>\u001b[1;34m\u001b[0m\n",
      "\u001b[1;32m~\\anaconda3\\lib\\site-packages\\IPython\\core\\display.py\u001b[0m in \u001b[0;36mclear_output\u001b[1;34m(wait)\u001b[0m\n\u001b[0;32m   1462\u001b[0m     \u001b[1;32mfrom\u001b[0m \u001b[0mIPython\u001b[0m\u001b[1;33m.\u001b[0m\u001b[0mcore\u001b[0m\u001b[1;33m.\u001b[0m\u001b[0minteractiveshell\u001b[0m \u001b[1;32mimport\u001b[0m \u001b[0mInteractiveShell\u001b[0m\u001b[1;33m\u001b[0m\u001b[1;33m\u001b[0m\u001b[0m\n\u001b[0;32m   1463\u001b[0m     \u001b[1;32mif\u001b[0m \u001b[0mInteractiveShell\u001b[0m\u001b[1;33m.\u001b[0m\u001b[0minitialized\u001b[0m\u001b[1;33m(\u001b[0m\u001b[1;33m)\u001b[0m\u001b[1;33m:\u001b[0m\u001b[1;33m\u001b[0m\u001b[1;33m\u001b[0m\u001b[0m\n\u001b[1;32m-> 1464\u001b[1;33m         \u001b[0mInteractiveShell\u001b[0m\u001b[1;33m.\u001b[0m\u001b[0minstance\u001b[0m\u001b[1;33m(\u001b[0m\u001b[1;33m)\u001b[0m\u001b[1;33m.\u001b[0m\u001b[0mdisplay_pub\u001b[0m\u001b[1;33m.\u001b[0m\u001b[0mclear_output\u001b[0m\u001b[1;33m(\u001b[0m\u001b[0mwait\u001b[0m\u001b[1;33m)\u001b[0m\u001b[1;33m\u001b[0m\u001b[1;33m\u001b[0m\u001b[0m\n\u001b[0m\u001b[0;32m   1465\u001b[0m     \u001b[1;32melse\u001b[0m\u001b[1;33m:\u001b[0m\u001b[1;33m\u001b[0m\u001b[1;33m\u001b[0m\u001b[0m\n\u001b[0;32m   1466\u001b[0m         \u001b[0mprint\u001b[0m\u001b[1;33m(\u001b[0m\u001b[1;34m'\\033[2K\\r'\u001b[0m\u001b[1;33m,\u001b[0m \u001b[0mend\u001b[0m\u001b[1;33m=\u001b[0m\u001b[1;34m''\u001b[0m\u001b[1;33m)\u001b[0m\u001b[1;33m\u001b[0m\u001b[1;33m\u001b[0m\u001b[0m\n",
      "\u001b[1;32m~\\anaconda3\\lib\\site-packages\\ipykernel\\zmqshell.py\u001b[0m in \u001b[0;36mclear_output\u001b[1;34m(self, wait)\u001b[0m\n\u001b[0;32m    155\u001b[0m         \"\"\"\n\u001b[0;32m    156\u001b[0m         \u001b[0mcontent\u001b[0m \u001b[1;33m=\u001b[0m \u001b[0mdict\u001b[0m\u001b[1;33m(\u001b[0m\u001b[0mwait\u001b[0m\u001b[1;33m=\u001b[0m\u001b[0mwait\u001b[0m\u001b[1;33m)\u001b[0m\u001b[1;33m\u001b[0m\u001b[1;33m\u001b[0m\u001b[0m\n\u001b[1;32m--> 157\u001b[1;33m         \u001b[0mself\u001b[0m\u001b[1;33m.\u001b[0m\u001b[0m_flush_streams\u001b[0m\u001b[1;33m(\u001b[0m\u001b[1;33m)\u001b[0m\u001b[1;33m\u001b[0m\u001b[1;33m\u001b[0m\u001b[0m\n\u001b[0m\u001b[0;32m    158\u001b[0m         self.session.send(\n\u001b[0;32m    159\u001b[0m             \u001b[0mself\u001b[0m\u001b[1;33m.\u001b[0m\u001b[0mpub_socket\u001b[0m\u001b[1;33m,\u001b[0m \u001b[1;34mu'clear_output'\u001b[0m\u001b[1;33m,\u001b[0m \u001b[0mcontent\u001b[0m\u001b[1;33m,\u001b[0m\u001b[1;33m\u001b[0m\u001b[1;33m\u001b[0m\u001b[0m\n",
      "\u001b[1;32m~\\anaconda3\\lib\\site-packages\\ipykernel\\zmqshell.py\u001b[0m in \u001b[0;36m_flush_streams\u001b[1;34m(self)\u001b[0m\n\u001b[0;32m     77\u001b[0m     \u001b[1;32mdef\u001b[0m \u001b[0m_flush_streams\u001b[0m\u001b[1;33m(\u001b[0m\u001b[0mself\u001b[0m\u001b[1;33m)\u001b[0m\u001b[1;33m:\u001b[0m\u001b[1;33m\u001b[0m\u001b[1;33m\u001b[0m\u001b[0m\n\u001b[0;32m     78\u001b[0m         \u001b[1;34m\"\"\"flush IO Streams prior to display\"\"\"\u001b[0m\u001b[1;33m\u001b[0m\u001b[1;33m\u001b[0m\u001b[0m\n\u001b[1;32m---> 79\u001b[1;33m         \u001b[0msys\u001b[0m\u001b[1;33m.\u001b[0m\u001b[0mstdout\u001b[0m\u001b[1;33m.\u001b[0m\u001b[0mflush\u001b[0m\u001b[1;33m(\u001b[0m\u001b[1;33m)\u001b[0m\u001b[1;33m\u001b[0m\u001b[1;33m\u001b[0m\u001b[0m\n\u001b[0m\u001b[0;32m     80\u001b[0m         \u001b[0msys\u001b[0m\u001b[1;33m.\u001b[0m\u001b[0mstderr\u001b[0m\u001b[1;33m.\u001b[0m\u001b[0mflush\u001b[0m\u001b[1;33m(\u001b[0m\u001b[1;33m)\u001b[0m\u001b[1;33m\u001b[0m\u001b[1;33m\u001b[0m\u001b[0m\n\u001b[0;32m     81\u001b[0m \u001b[1;33m\u001b[0m\u001b[0m\n",
      "\u001b[1;32m~\\anaconda3\\lib\\site-packages\\ipykernel\\iostream.py\u001b[0m in \u001b[0;36mflush\u001b[1;34m(self)\u001b[0m\n\u001b[0;32m    342\u001b[0m         \u001b[1;32mif\u001b[0m \u001b[0mself\u001b[0m\u001b[1;33m.\u001b[0m\u001b[0mpub_thread\u001b[0m \u001b[1;32mand\u001b[0m \u001b[0mself\u001b[0m\u001b[1;33m.\u001b[0m\u001b[0mpub_thread\u001b[0m\u001b[1;33m.\u001b[0m\u001b[0mthread\u001b[0m \u001b[1;32mis\u001b[0m \u001b[1;32mnot\u001b[0m \u001b[1;32mNone\u001b[0m \u001b[1;32mand\u001b[0m \u001b[0mself\u001b[0m\u001b[1;33m.\u001b[0m\u001b[0mpub_thread\u001b[0m\u001b[1;33m.\u001b[0m\u001b[0mthread\u001b[0m\u001b[1;33m.\u001b[0m\u001b[0mis_alive\u001b[0m\u001b[1;33m(\u001b[0m\u001b[1;33m)\u001b[0m\u001b[1;33m:\u001b[0m\u001b[1;33m\u001b[0m\u001b[1;33m\u001b[0m\u001b[0m\n\u001b[0;32m    343\u001b[0m             \u001b[1;31m# request flush on the background thread\u001b[0m\u001b[1;33m\u001b[0m\u001b[1;33m\u001b[0m\u001b[1;33m\u001b[0m\u001b[0m\n\u001b[1;32m--> 344\u001b[1;33m             \u001b[0mself\u001b[0m\u001b[1;33m.\u001b[0m\u001b[0mpub_thread\u001b[0m\u001b[1;33m.\u001b[0m\u001b[0mschedule\u001b[0m\u001b[1;33m(\u001b[0m\u001b[0mself\u001b[0m\u001b[1;33m.\u001b[0m\u001b[0m_flush\u001b[0m\u001b[1;33m)\u001b[0m\u001b[1;33m\u001b[0m\u001b[1;33m\u001b[0m\u001b[0m\n\u001b[0m\u001b[0;32m    345\u001b[0m             \u001b[1;31m# wait for flush to actually get through, if we can.\u001b[0m\u001b[1;33m\u001b[0m\u001b[1;33m\u001b[0m\u001b[1;33m\u001b[0m\u001b[0m\n\u001b[0;32m    346\u001b[0m             \u001b[1;31m# waiting across threads during import can cause deadlocks\u001b[0m\u001b[1;33m\u001b[0m\u001b[1;33m\u001b[0m\u001b[1;33m\u001b[0m\u001b[0m\n",
      "\u001b[1;32m~\\anaconda3\\lib\\site-packages\\ipykernel\\iostream.py\u001b[0m in \u001b[0;36mschedule\u001b[1;34m(self, f)\u001b[0m\n\u001b[0;32m    203\u001b[0m             \u001b[0mself\u001b[0m\u001b[1;33m.\u001b[0m\u001b[0m_events\u001b[0m\u001b[1;33m.\u001b[0m\u001b[0mappend\u001b[0m\u001b[1;33m(\u001b[0m\u001b[0mf\u001b[0m\u001b[1;33m)\u001b[0m\u001b[1;33m\u001b[0m\u001b[1;33m\u001b[0m\u001b[0m\n\u001b[0;32m    204\u001b[0m             \u001b[1;31m# wake event thread (message content is ignored)\u001b[0m\u001b[1;33m\u001b[0m\u001b[1;33m\u001b[0m\u001b[1;33m\u001b[0m\u001b[0m\n\u001b[1;32m--> 205\u001b[1;33m             \u001b[0mself\u001b[0m\u001b[1;33m.\u001b[0m\u001b[0m_event_pipe\u001b[0m\u001b[1;33m.\u001b[0m\u001b[0msend\u001b[0m\u001b[1;33m(\u001b[0m\u001b[1;34mb''\u001b[0m\u001b[1;33m)\u001b[0m\u001b[1;33m\u001b[0m\u001b[1;33m\u001b[0m\u001b[0m\n\u001b[0m\u001b[0;32m    206\u001b[0m         \u001b[1;32melse\u001b[0m\u001b[1;33m:\u001b[0m\u001b[1;33m\u001b[0m\u001b[1;33m\u001b[0m\u001b[0m\n\u001b[0;32m    207\u001b[0m             \u001b[0mf\u001b[0m\u001b[1;33m(\u001b[0m\u001b[1;33m)\u001b[0m\u001b[1;33m\u001b[0m\u001b[1;33m\u001b[0m\u001b[0m\n",
      "\u001b[1;32m~\\anaconda3\\lib\\site-packages\\zmq\\sugar\\socket.py\u001b[0m in \u001b[0;36msend\u001b[1;34m(self, data, flags, copy, track, routing_id, group)\u001b[0m\n\u001b[0;32m    414\u001b[0m                                  copy_threshold=self.copy_threshold)\n\u001b[0;32m    415\u001b[0m             \u001b[0mdata\u001b[0m\u001b[1;33m.\u001b[0m\u001b[0mgroup\u001b[0m \u001b[1;33m=\u001b[0m \u001b[0mgroup\u001b[0m\u001b[1;33m\u001b[0m\u001b[1;33m\u001b[0m\u001b[0m\n\u001b[1;32m--> 416\u001b[1;33m         \u001b[1;32mreturn\u001b[0m \u001b[0msuper\u001b[0m\u001b[1;33m(\u001b[0m\u001b[0mSocket\u001b[0m\u001b[1;33m,\u001b[0m \u001b[0mself\u001b[0m\u001b[1;33m)\u001b[0m\u001b[1;33m.\u001b[0m\u001b[0msend\u001b[0m\u001b[1;33m(\u001b[0m\u001b[0mdata\u001b[0m\u001b[1;33m,\u001b[0m \u001b[0mflags\u001b[0m\u001b[1;33m=\u001b[0m\u001b[0mflags\u001b[0m\u001b[1;33m,\u001b[0m \u001b[0mcopy\u001b[0m\u001b[1;33m=\u001b[0m\u001b[0mcopy\u001b[0m\u001b[1;33m,\u001b[0m \u001b[0mtrack\u001b[0m\u001b[1;33m=\u001b[0m\u001b[0mtrack\u001b[0m\u001b[1;33m)\u001b[0m\u001b[1;33m\u001b[0m\u001b[1;33m\u001b[0m\u001b[0m\n\u001b[0m\u001b[0;32m    417\u001b[0m \u001b[1;33m\u001b[0m\u001b[0m\n\u001b[0;32m    418\u001b[0m     \u001b[1;32mdef\u001b[0m \u001b[0msend_multipart\u001b[0m\u001b[1;33m(\u001b[0m\u001b[0mself\u001b[0m\u001b[1;33m,\u001b[0m \u001b[0mmsg_parts\u001b[0m\u001b[1;33m,\u001b[0m \u001b[0mflags\u001b[0m\u001b[1;33m=\u001b[0m\u001b[1;36m0\u001b[0m\u001b[1;33m,\u001b[0m \u001b[0mcopy\u001b[0m\u001b[1;33m=\u001b[0m\u001b[1;32mTrue\u001b[0m\u001b[1;33m,\u001b[0m \u001b[0mtrack\u001b[0m\u001b[1;33m=\u001b[0m\u001b[1;32mFalse\u001b[0m\u001b[1;33m,\u001b[0m \u001b[1;33m**\u001b[0m\u001b[0mkwargs\u001b[0m\u001b[1;33m)\u001b[0m\u001b[1;33m:\u001b[0m\u001b[1;33m\u001b[0m\u001b[1;33m\u001b[0m\u001b[0m\n",
      "\u001b[1;32mzmq/backend/cython/socket.pyx\u001b[0m in \u001b[0;36mzmq.backend.cython.socket.Socket.send\u001b[1;34m()\u001b[0m\n",
      "\u001b[1;32mzmq/backend/cython/socket.pyx\u001b[0m in \u001b[0;36mzmq.backend.cython.socket.Socket.send\u001b[1;34m()\u001b[0m\n",
      "\u001b[1;32mzmq/backend/cython/socket.pyx\u001b[0m in \u001b[0;36mzmq.backend.cython.socket._send_copy\u001b[1;34m()\u001b[0m\n",
      "\u001b[1;32m~\\anaconda3\\lib\\site-packages\\zmq\\backend\\cython\\checkrc.pxd\u001b[0m in \u001b[0;36mzmq.backend.cython.checkrc._check_rc\u001b[1;34m()\u001b[0m\n",
      "\u001b[1;31mKeyboardInterrupt\u001b[0m: "
     ]
    }
   ],
   "source": [
    "%%time\n",
    "\n",
    "# 到達可能な全盤面を作成する\n",
    "# 発見 -> 未訪問 -> 訪問済み の流れ。\n",
    "\n",
    "q = deque() # 発見キュー\n",
    "all_states = set() # 訪問済み\n",
    "\n",
    "# 初期状態の追加\n",
    "init_state = 0b_1_0_0_0000_000000000_000000000000000000000000000000000000_11111111\n",
    "q.append(convert_normalization_state(init_state))\n",
    "# qが空になるまで探索\n",
    "cnt = 0\n",
    "while q: \n",
    "  cnt += 1\n",
    "  if cnt % 100 == 0:\n",
    "    clear_output(wait=True)\n",
    "    print(cnt)\n",
    "    time.sleep(0.001) #1msの休止\n",
    "  current_state = q.popleft()\n",
    "  if current_state not in all_states: # current_stateがまだ訪問済みでないなら\n",
    "    all_states.add(current_state) # 訪問済みに追加\n",
    "    is_done, winner = check_result(current_state)\n",
    "    if not is_done: # 勝敗決定盤面でないなら\n",
    "      for action in legal_actions(current_state): # 合法手を列挙\n",
    "        q.append(create_next_state(current_state, action)) #次の状態(正規化済)をqに追加\n",
    "        \n",
    "# list化してソート\n",
    "allstates = list(all_states).sort()\n",
    "\n",
    "# 状態の確認\n",
    "print(f'状態数 : {allstates}')\n",
    "print(f'サイズ : {sys.getsizeof(allstates)} byte')\n",
    "print(f'ループ回数 : {cnt}')"
   ]
  },
  {
   "cell_type": "code",
   "execution_count": null,
   "metadata": {},
   "outputs": [],
   "source": [
    "# pickleで保存\n",
    "import pickle\n",
    "with open('allstates.pickle', 'wb') as f:\n",
    "    pickle.dump(allstates, f)"
   ]
  },
  {
   "cell_type": "markdown",
   "metadata": {},
   "source": [
    "## 後退解析"
   ]
  },
  {
   "cell_type": "markdown",
   "metadata": {},
   "source": [
    "### 追加関数"
   ]
  },
  {
   "cell_type": "code",
   "execution_count": null,
   "metadata": {},
   "outputs": [],
   "source": [
    "# 勝敗判定を行う\n",
    "# 勝ち色を返す (1...R, -1...B, 未確定なら0)\n",
    "def newWinLose(arg_allstates, arg_winLose, arg_state):\n",
    "  is_first = int(f'{arg_state:060b}'[0])\n",
    "  turn_color = 1 if is_first == 1 else -1\n",
    "  alllose = True;\n",
    "  for action in legal_actions(state): # 合法手を列挙\n",
    "    next_state = create_next_state(current_state, action)\n",
    "    i1 = arg_allstates.index(next_state)\n",
    "    if arg_winLose[i1] == -turn_color: # 相手の負け盤面が１つでもあればそれを指せば勝ち\n",
    "      return turn_color;\n",
    "    if arg_winLose == 0:\n",
    "      alllose = False;\n",
    "  if alllose: # 次の手がすべて負け盤面なら相手の勝ち\n",
    "    return -turn_color;\n",
    "  else:\n",
    "    return 0;"
   ]
  },
  {
   "cell_type": "markdown",
   "metadata": {},
   "source": [
    "### 処理"
   ]
  },
  {
   "cell_type": "code",
   "execution_count": null,
   "metadata": {},
   "outputs": [],
   "source": [
    "# allstatesを非pickle化\n",
    "with open('allstates.pickle', 'rb') as f:\n",
    "    allstates = pickle.load(f)\n",
    "\n",
    "# winLose, winLoseCountを全状態数分用意する\n",
    "# winLose[i]... allstates[i]の勝敗. 未確定が0, R勝ちが1, B勝ちが-1\n",
    "# winLoseCount ... allstates[i]が決着までかかる手数\n",
    "winLose = [0] * len(allstates)  # その盤面の勝敗 0は未確定, 1はR, -1はB\n",
    "winLoseCount = [0] * len(allstates) # 勝敗にかかるまでの手数\n",
    "count= {\"Redwin\": 0, \"Bluewin\" : 0, \"yet\" : 0}\n"
   ]
  },
  {
   "cell_type": "code",
   "execution_count": 24,
   "metadata": {},
   "outputs": [
    {
     "name": "stderr",
     "output_type": "stream",
     "text": [
      "<timed exec>:28: SyntaxWarning: \"is not\" with a literal. Did you mean \"!=\"?\n"
     ]
    },
    {
     "ename": "NameError",
     "evalue": "name 'allstates' is not defined",
     "output_type": "error",
     "traceback": [
      "\u001b[1;31m---------------------------------------------------------------------------\u001b[0m",
      "\u001b[1;31mNameError\u001b[0m                                 Traceback (most recent call last)",
      "\u001b[1;32m<timed exec>\u001b[0m in \u001b[0;36m<module>\u001b[1;34m\u001b[0m\n",
      "\u001b[1;31mNameError\u001b[0m: name 'allstates' is not defined"
     ]
    }
   ],
   "source": [
    "%%time\n",
    "\n",
    "# 現在の盤面のwinLoseを記録\n",
    "for i, state in enumerate(allstates):\n",
    "  is_done, winner = check_result(state)\n",
    "  if is_done: # 終了盤面\n",
    "    if winner == 0: #FIRST_PLAYER RED\n",
    "      winLose[i]=1;\n",
    "      count[\"Redwin\"] += 1;\n",
    "    elif winner == 1: #SECOND_PLAYER BLUE\n",
    "      winLose[i]=-1;\n",
    "      count[\"Bluewin\"] += 1;\n",
    "  else:\n",
    "      winLose[i]=1;\n",
    "      count[\"yet\"] += 1;\n",
    "\n",
    "c = 0 # 手数\n",
    "cnt = 0 #ループ回数\n",
    "while True:\n",
    "  # 勝敗のカウント\n",
    "  c += 1;\n",
    "  print(f'iteration {c}')\n",
    "  print(f'Redwin : {count[\"Redwin\"]}, Bluewin : {count[\"Bluewin\"]}, yet : {count[\"yet\"]}')\n",
    "  # 解析終了フラグ\n",
    "  changed = False \n",
    "  # 解析\n",
    "  for i, state in enumerate(allstates): \n",
    "    if winLose[i] == 0: # 未決着の盤面のみ判定する\n",
    "      nv = newWinLose(allstates, winLose, state) # 勝敗\n",
    "      if nv is not 0:\n",
    "        winLose[i] = nv # この状態の理論値を入力\n",
    "        winLoseCount[i] = c # 勝敗にかかるまでの手数を入力\n",
    "        if nv == 1:\n",
    "          count[\"Redwin\"] += 1;#決着の盤面数を増やす\n",
    "        elif nv == -1:\n",
    "          count[\"Bluewin\"] += 1;\n",
    "        count[\"yet\"] -= 1; # 未決着盤面数をへらす\n",
    "        changed = True # 解析継続\n",
    "  if not changed:\n",
    "    break;\n",
    "    \n",
    "print(\"解析終了\")\n",
    "print(f'Redwin : {count[\"Redwin\"]}')\n",
    "print(f'Bluewin : {count[\"Bluewin\"]}')\n",
    "print(f'あいこ : {count[\"yet\"]}')\n",
    "print(f'ループ回数 : {cnt}')"
   ]
  },
  {
   "cell_type": "code",
   "execution_count": null,
   "metadata": {},
   "outputs": [],
   "source": [
    "# winLose, winLoseCountをpickle化\n",
    "import pickle\n",
    "with open('winLose.pickle', 'wb') as f:\n",
    "    pickle.dump(winLose, f)\n",
    "with open('winLoseCount.pickle', 'wb') as f:\n",
    "    pickle.dump(winLoseCount, f)"
   ]
  }
 ],
 "metadata": {
  "kernelspec": {
   "display_name": "Python 3",
   "language": "python",
   "name": "python3"
  },
  "language_info": {
   "codemirror_mode": {
    "name": "ipython",
    "version": 3
   },
   "file_extension": ".py",
   "mimetype": "text/x-python",
   "name": "python",
   "nbconvert_exporter": "python",
   "pygments_lexer": "ipython3",
   "version": "3.8.5"
  }
 },
 "nbformat": 4,
 "nbformat_minor": 4
}
