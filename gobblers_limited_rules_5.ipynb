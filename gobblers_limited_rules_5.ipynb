{
 "cells": [
  {
   "cell_type": "markdown",
   "metadata": {},
   "source": [
    "# Pythonでゴブレットゴブラーズ(簡易)の解析\n",
    "\n",
    "- ゴブレットゴブラーズ [本家(Blue Orange Games)](https://www.blueorangegames.com/index.php/games/gobbletgobblers) / [日本(すごろくや)](https://sgrk.blog.fc2.com/blog-entry-3687.html) \n",
    "- [ソースコード設計スライド](https://docs.google.com/presentation/d/1K8fbRlk24Y_J3M--F-WnYYN0hddL89w3EGN4Zgw-L1g/edit?usp=sharing)\n",
    "- [卒論概要](https://docs.google.com/document/d/1jEXvVmpUPCaowl3xR1qgyhUFGVHFVzyZjBo9F8OAR7M/edit?usp=sharing)"
   ]
  },
  {
   "cell_type": "markdown",
   "metadata": {},
   "source": [
    "## 1. 設計"
   ]
  },
  {
   "cell_type": "markdown",
   "metadata": {},
   "source": [
    "### a) state"
   ]
  },
  {
   "cell_type": "markdown",
   "metadata": {},
   "source": [
    "必要な情報を36bitで表す。  \n",
    "state = 0b_000000000_000000000_000000000_000000000\n",
    "\n",
    "\n",
    "| 区分 | my_large_board | my_middle_board | your_large_board | your_middle_board |\n",
    "| ---- | ---- | ---- | ---- | ---- |\n",
    "| bit数 | 9bit | 9bit | 9bit | 9bit |\n",
    "| 例 | 100000000 | 010000000 | 001000000 | 001010000 | \n",
    "| 説明 | 盤面に置いてある自L駒 | 盤面に置いてある自M駒 | 盤面に置いてある敵L駒 | 盤面に置いてある敵L駒 |\n",
    "\n",
    "手番交代では、上位bit半分と下位bit半分を入れ替える。\n",
    "```\n",
    "change_player_state  = \n",
    "(state & 0b_111111111_111111111_000000000_000000000) >> 18 | (state & 0b_000000000_000000000_111111111_111111111) << 18\n",
    "```"
   ]
  },
  {
   "cell_type": "markdown",
   "metadata": {},
   "source": [
    "確認"
   ]
  },
  {
   "cell_type": "code",
   "execution_count": 753,
   "metadata": {},
   "outputs": [
    {
     "name": "stdout",
     "output_type": "stream",
     "text": [
      "0\n",
      "000000000000000000000000000000000000\n",
      "<class 'str'>\n",
      "36\n"
     ]
    }
   ],
   "source": [
    "# 確認\n",
    "state = 0b_000000000_000000000_000000000_000000000\n",
    "print(state) # 10進数\n",
    "print(f'{state:036b}')#bin(プレフィックスなし)\n",
    "print(type(f'{state:036b}')) #文字列です\n",
    "print(len(f'{state:036b}')) # bit数の確認"
   ]
  },
  {
   "cell_type": "markdown",
   "metadata": {},
   "source": [
    "bit操作"
   ]
  },
  {
   "cell_type": "code",
   "execution_count": 754,
   "metadata": {},
   "outputs": [
    {
     "name": "stdout",
     "output_type": "stream",
     "text": [
      "プレイヤー変更前 : 111000000000111000000000111000000000\n",
      "プレイヤー変更後 : 000000111000000000111000000000111000\n"
     ]
    }
   ],
   "source": [
    "state =  0b_111000000_000111000_000000111_000000000\n",
    "print(\"プレイヤー変更前 : \" + f'{state:036b}')\n",
    "# 敵と味方の駒を入れ替える\n",
    "state  = (state & 0b_111111111_111111111_000000000_000000000) >> 18 | (state & 0b_000000000_000000000_111111111_111111111) << 18\n",
    "print(\"プレイヤー変更後 : \" + f'{state:036b}')"
   ]
  },
  {
   "cell_type": "markdown",
   "metadata": {},
   "source": [
    "複数bitの取り出しチャンク"
   ]
  },
  {
   "cell_type": "code",
   "execution_count": 755,
   "metadata": {},
   "outputs": [
    {
     "name": "stdout",
     "output_type": "stream",
     "text": [
      "状態   : 111000000000111000000000111000000000\n",
      "\n",
      "文字列で操作\n",
      "再構築 : 111000000000111000000000111000000000\n",
      "\n",
      "bitで取り出す\n",
      "my_large_board : 448\n",
      "my_middle_board : 56\n",
      "your_large_board : 7\n",
      "your_middle_board : 0\n",
      "再構築 : 111000000000111000000000111000000000\n"
     ]
    }
   ],
   "source": [
    "state = 0b_111000000_000111000_000000111_000000000\n",
    "print(\"状態   : \" +  f'{state:036b}')\n",
    "\n",
    "# 文字列でバラす\n",
    "my_large_board = f'{state:036b}'[0:9]\n",
    "my_middle_board = f'{state:036b}'[9:18]\n",
    "your_large_board = f'{state:036b}'[18:27]\n",
    "your_middle_board = f'{state:036b}'[27:36]\n",
    "print(\"\\n文字列で操作\")\n",
    "print(\"再構築 : \" + my_large_board + my_middle_board + your_large_board + your_middle_board)\n",
    "\n",
    "# bitで取り出す\n",
    "my_large_board = (state & 0b_111111111_000000000_000000000_000000000) >> 27\n",
    "my_middle_board = (state & 0b_000000000_111111111_000000000_000000000) >> 18\n",
    "your_large_board = (state & 0b_000000000_000000000_111111111_000000000) >> 9\n",
    "your_middle_board = state & 0b_000000000_000000000_000000000_111111111\n",
    "print(\"\\nbitで取り出す\")\n",
    "print(f\"my_large_board : {my_large_board}\")\n",
    "print(f\"my_middle_board : {my_middle_board}\")\n",
    "print(f\"your_large_board : {your_large_board}\")\n",
    "print(f\"your_middle_board : {your_middle_board}\")\n",
    "state = (my_large_board << 27) | (my_middle_board << 18) | (your_large_board << 9) | your_middle_board\n",
    "print(\"再構築 : \" + f\"{state:036b}\")"
   ]
  },
  {
   "cell_type": "markdown",
   "metadata": {},
   "source": [
    "#### handの作成\n",
    "\n",
    "hand = (自Lの個数, 自Mの個数, 敵Lの個数, 敵Mの個数)"
   ]
  },
  {
   "cell_type": "code",
   "execution_count": 1,
   "metadata": {},
   "outputs": [],
   "source": [
    "hand_1_table = [0b100000000, 0b010000000, 0b001000000, 0b000100000, 0b000010000, 0b000001000, 0b000000100, 0b000000010, 0b000000001]\n",
    "\n",
    "def create_hand(state):\n",
    "    hand = [2, 2, 2, 2]\n",
    "    num_of_piece_type = [0,0,0,0] # my_large_board, my_middle_board, your_large_board, your_middle_board\n",
    "    num_of_piece_type[0] = (state & 0b_111111111_000000000_000000000_000000000) >> 27\n",
    "    num_of_piece_type[1] = (state & 0b_000000000_111111111_000000000_000000000) >> 18\n",
    "    num_of_piece_type[2] = (state & 0b_000000000_000000000_111111111_000000000) >> 9\n",
    "    num_of_piece_type[3] = state & 0b_000000000_000000000_000000000_111111111\n",
    "    \n",
    "    for i in range(4):\n",
    "        if num_of_piece_type[i] != 0:\n",
    "            hand[i] = 1 if num_of_piece_type[i] in hand_1_table else 0\n",
    "    return hand"
   ]
  },
  {
   "cell_type": "code",
   "execution_count": 757,
   "metadata": {},
   "outputs": [
    {
     "name": "stdout",
     "output_type": "stream",
     "text": [
      "[0, 1, 2, 0]\n"
     ]
    }
   ],
   "source": [
    "# 確認\n",
    "state = 0b01001000010000000000000000000001100\n",
    "print(create_hand(state))"
   ]
  },
  {
   "cell_type": "markdown",
   "metadata": {},
   "source": [
    "### b) action"
   ]
  },
  {
   "cell_type": "markdown",
   "metadata": {},
   "source": [
    "必要な情報を20bitで表す。  \n",
    "action = 0b_0_0_000000000_000000000\n",
    "\n",
    "| 区分 | piece_size | is_hand | before_moving_piece_axis | after_moving_piece_axis |\n",
    "| ---- | ---- | ---- | ---- | ---- | \n",
    "| bit数 | 1bit | 1bit | 9bit | 9bit |\n",
    "| 例 | 1 | 1 | 000000000 | 100000000 |\n",
    "| 説明 | 行動する駒の大きさ. 0ならL, 1ならM | 手駒かどうか. 手駒なら1 | 移動元の駒の位置 | 移動先の駒の位置 |\n",
    "\n",
    "- 行動する駒の大きさ, 移動元の駒の位置, 移動先の駒の位置"
   ]
  },
  {
   "cell_type": "markdown",
   "metadata": {},
   "source": [
    "確認"
   ]
  },
  {
   "cell_type": "code",
   "execution_count": 758,
   "metadata": {},
   "outputs": [
    {
     "name": "stdout",
     "output_type": "stream",
     "text": [
      "557057\n",
      "10001000000000000001\n",
      "<class 'str'>\n",
      "20\n"
     ]
    }
   ],
   "source": [
    "# 確認\n",
    "action = 0b_1_0_001000000_000000001\n",
    "print(action) # 10進数\n",
    "print(f'{action:020b}')#bin(プレフィックスなし)\n",
    "print(type(f'{action:020b}')) #文字列です\n",
    "print(len(f'{action:020b}')) # bit数の確認"
   ]
  },
  {
   "cell_type": "markdown",
   "metadata": {},
   "source": [
    "bit操作"
   ]
  },
  {
   "cell_type": "markdown",
   "metadata": {},
   "source": [
    "複数bitの取り出しチャンク"
   ]
  },
  {
   "cell_type": "code",
   "execution_count": 759,
   "metadata": {},
   "outputs": [
    {
     "name": "stdout",
     "output_type": "stream",
     "text": [
      "行動   : 10001000000000000001\n",
      "\n",
      "文字列で操作\n",
      "再構築 : 10001000000000000001\n",
      "\n",
      "bitで取り出す\n",
      "piece_size : 1\n",
      "is_hand : 0\n",
      "before_moving_piece_axis : 000000000000000000000000000001000000\n",
      "after_moving_piece_axis  : 000000000000000000000000000000000001\n",
      "再構築 : 10001000000000000001\n"
     ]
    }
   ],
   "source": [
    "action = 0b_1_0_001000000_000000001\n",
    "print(\"行動   : \" +  f'{action:020b}')\n",
    "\n",
    "# 文字列でバラす\n",
    "piece_size = f'{action:020b}'[0]\n",
    "is_hand = f'{action:020b}'[1]\n",
    "before_moving_piece_axis = f'{action:020b}'[2:11]\n",
    "after_moving_piece_axis = f'{action:020b}'[11:20]\n",
    "print(\"\\n文字列で操作\")\n",
    "print(\"再構築 : \" + piece_size + is_hand + before_moving_piece_axis + after_moving_piece_axis)\n",
    "\n",
    "# bitで取り出す\n",
    "piece_size = (action & 0b_1_0_000000000_000000000) >> 19\n",
    "is_hand = (action & 0b_0_1_000000000_000000000) >> 18\n",
    "before_moving_piece_axis = (action & 0b_0_0_111111111_000000000) >> 9\n",
    "after_moving_piece_axis = action & 0b_0_0_000000000_111111111\n",
    "print(\"\\nbitで取り出す\")\n",
    "print(f\"piece_size : {piece_size}\")\n",
    "print(f\"is_hand : {is_hand}\")\n",
    "print(f\"before_moving_piece_axis : {before_moving_piece_axis:036b}\")\n",
    "print(f\"after_moving_piece_axis  : {after_moving_piece_axis:036b}\")\n",
    "state = (piece_size << 19) | (is_hand << 18) | (before_moving_piece_axis << 9) | after_moving_piece_axis\n",
    "print(\"再構築 : \" + f'{action:020b}')"
   ]
  },
  {
   "cell_type": "markdown",
   "metadata": {},
   "source": [
    "## 関数宣言"
   ]
  },
  {
   "cell_type": "markdown",
   "metadata": {},
   "source": [
    "### 正規化"
   ]
  },
  {
   "cell_type": "markdown",
   "metadata": {},
   "source": [
    "盤面を回転、線対称、点対称させることで、同意の状態を一つの状態として扱う。  \n",
    "変換後、board部が最も小さい状態で正規化する。"
   ]
  },
  {
   "cell_type": "code",
   "execution_count": 2,
   "metadata": {},
   "outputs": [],
   "source": [
    "# 8つの変換関数\n",
    "def horizonal(state):\n",
    "    return (state & 0b_111000000_111000000_111000000_111000000) >> 6 | (state & 0b_000111000_000111000_000111000_000111000) | (state & 0b_000000111_000000111_000000111_000000111) << 6\n",
    "\n",
    "def vertical(state):\n",
    "    return (state & 0b_100100100_100100100_100100100_100100100) >> 2 | (state & 0b_010010010_010010010_010010010_010010010) | (state & 0b_001001001_001001001_001001001_001001001) << 2\n",
    "\n",
    "def rotate90(state):\n",
    "    return (state & 0b_100001000_100001000_100001000_100001000) >> 2 | (state & 0b_010000000_010000000_010000000_010000000) >> 4 | (state & 0b_001000000_001000000_001000000_001000000) >> 6 |(state & 0b_000100001_000100001_000100001_000100001) << 2 | (state & 0b_000010000_000010000_000010000_000010000) | (state & 0b_000000100_000000100_000000100_000000100) << 6 | (state & 0b_000000010_000000010_000000010_000000010) << 4 \n",
    "\n",
    "def rotate180(state):\n",
    "    state = (state & 0b_111100000_111100000_111100000_111100000) >> 5 | (state & 0b_000010000_000010000_000010000_000010000) | (state & 0b_000001111_000001111_000001111_000001111) << 5\n",
    "    state = (state & 0b_110001100_110001100_110001100_110001100) >> 2 | (state & 0b_000010000_000010000_000010000_000010000) | (state & 0b_001100011_001100011_001100011_001100011) << 2\n",
    "    state = (state & 0b_101001010_101001010_101001010_101001010) >> 1 | (state & 0b_000010000_000010000_000010000_000010000) | (state & 0b_010100101_010100101_010100101_010100101) << 1\n",
    "    return state\n",
    "\n",
    "def rotate270(state):\n",
    "    state = rotate180(state)\n",
    "    state = rotate90(state)\n",
    "    return state\n",
    "\n",
    "def line048(state):\n",
    "    state = vertical(state)\n",
    "    state = rotate90(state)\n",
    "    return state\n",
    "\n",
    "def line246(state):\n",
    "    state = horizonal(state)\n",
    "    state = rotate90(state)\n",
    "    return state"
   ]
  },
  {
   "cell_type": "code",
   "execution_count": 3,
   "metadata": {},
   "outputs": [
    {
     "name": "stdout",
     "output_type": "stream",
     "text": [
      "111000000000000000000000000000000000\n",
      "000000111000000000000000000000000000\n",
      "111000000000000000000000000000000000\n",
      "001001001000000000000000000000000000\n",
      "000000111000000000000000000000000000\n",
      "100100100000000000000000000000000000\n",
      "001001001000000000000000000000000000\n",
      "100100100000000000000000000000000000\n"
     ]
    }
   ],
   "source": [
    "state = 0b_111000000_000000000_000000000_000000000\n",
    "print(f\"{state:036b}\")\n",
    "print(f\"{horizonal(state):036b}\")\n",
    "print(f\"{vertical(state):036b}\")\n",
    "print(f\"{rotate90(state):036b}\")\n",
    "print(f\"{rotate180(state):036b}\")\n",
    "print(f\"{rotate270(state):036b}\")\n",
    "print(f\"{line048(state):036b}\")\n",
    "print(f\"{line246(state):036b}\")"
   ]
  },
  {
   "cell_type": "code",
   "execution_count": 4,
   "metadata": {},
   "outputs": [],
   "source": [
    "def convert_normalization_state(state):\n",
    "    # 変換して最も小さい状態で正規化する\n",
    "    cand_state = [state, horizonal(state), vertical(state), rotate90(state), rotate180(state), rotate270(state), line048(state), line246(state)]\n",
    "    return min(cand_state)"
   ]
  },
  {
   "cell_type": "markdown",
   "metadata": {},
   "source": [
    "確認"
   ]
  },
  {
   "cell_type": "code",
   "execution_count": 763,
   "metadata": {},
   "outputs": [
    {
     "name": "stdout",
     "output_type": "stream",
     "text": [
      "111000000000000000000000000000000000\n",
      "000000111000000000000000000000000000\n"
     ]
    }
   ],
   "source": [
    "# 確認\n",
    "state = 0b_111000000_000000000_000000000_000000000\n",
    "print(f\"{state:036b}\")\n",
    "print(f\"{convert_normalization_state(state):036b}\")"
   ]
  },
  {
   "cell_type": "markdown",
   "metadata": {},
   "source": [
    "### 合法手"
   ]
  },
  {
   "cell_type": "markdown",
   "metadata": {},
   "source": [
    "stateからその合法手一覧であるactionsを作成する\n",
    "ただし、駒を持ち上げた時の勝敗はcreate_next_stateで判定する。\n",
    "つまり、指したら持ち上げた段階で負け、次の状態に遷移できない手も作成する。\n",
    "アクションとしては合法だが、到達しない状態へ遷移するので注意。\n",
    "\n",
    "actions:\n",
    "```\n",
    "actions = [action1, action2, ...]\n",
    "```\n",
    "\n",
    "actionを2回に分けて作成\n",
    "- 行動できる駒一覧を作成する。 : can_choising_pieces(state)\n",
    "- その駒を置ける場所一覧を作成する : can_setting_axis(state)"
   ]
  },
  {
   "cell_type": "markdown",
   "metadata": {},
   "source": [
    " #### can_choising_pieces(state) :\n",
    " \n",
    " - before_action... actionの下位bit after_moving_piece_axis 以外を出力"
   ]
  },
  {
   "cell_type": "code",
   "execution_count": 5,
   "metadata": {},
   "outputs": [],
   "source": [
    "def can_choising_pieces(state):\n",
    "    choising_pieces = []\n",
    "    # 手駒が動かせるか\n",
    "    hand = create_hand(state)\n",
    "    if hand[0] != 0:\n",
    "        choising_pieces.append(0b_0_1_000000000)\n",
    "    if hand[1] != 0:\n",
    "        choising_pieces.append(0b_1_1_000000000)\n",
    "    # 盤駒が動かせるか\n",
    "    my_large_board = (state & 0b_111111111_000000000_000000000_000000000) >> 27\n",
    "    my_middle_board = (state & 0b_000000000_111111111_000000000_000000000) >> 18\n",
    "    your_large_board = (state & 0b_000000000_000000000_111111111_000000000) >> 9\n",
    "    large_mask = my_large_board | your_large_board # L駒が置いてあるマスが1\n",
    "    \n",
    "    # not_covered_my_middle_board = my_middle_board & ~large_mask # 上に駒がない自M駒\n",
    "    \n",
    "    large_mask_str = f\"{large_mask:09b}\"\n",
    "    my_middle_board_str_list = list(f\"{my_middle_board:09b}\")\n",
    "    for i, bit in enumerate(large_mask_str):\n",
    "        if bit == \"1\":\n",
    "            my_middle_board_str_list[i] == \"0\"\n",
    "    \n",
    "    not_covered_my_middle_board = int(\"\".join(my_middle_board_str_list), 2)\n",
    "            \n",
    "    \n",
    "    \n",
    "    for i in range(9): # 各マス確認\n",
    "        # マスの自L駒\n",
    "        if my_large_board & 1 == 1:\n",
    "            choising_pieces.append(2**i)\n",
    "        my_large_board = my_large_board >> 1\n",
    "        # マスの自M駒\n",
    "        if not_covered_my_middle_board & 1 == 1:\n",
    "            choising_pieces.append(0b_1_0_000000000 | 2**i)\n",
    "        not_covered_my_middle_board = not_covered_my_middle_board >> 1\n",
    "    return choising_pieces"
   ]
  },
  {
   "cell_type": "code",
   "execution_count": 6,
   "metadata": {},
   "outputs": [
    {
     "name": "stdout",
     "output_type": "stream",
     "text": [
      "01000000000\n",
      "11000000000\n",
      "10000100000\n",
      "00100000000\n"
     ]
    }
   ],
   "source": [
    "# 確認\n",
    "state = 0b100000000_000100000_000000000_000000000\n",
    "for action in can_choising_pieces(state):\n",
    "    print(f\"{action:011b}\")"
   ]
  },
  {
   "cell_type": "markdown",
   "metadata": {
    "scrolled": true
   },
   "source": [
    "#### can_setting_axis(before_action)\n",
    "\n",
    "before_actionからafter_moving_piece_axesを作成する。注意！複数系\n",
    "\n",
    "after_moving_piece_axes = [after_moving_piece_axis1, after_moving_piece_axis2, ...]"
   ]
  },
  {
   "cell_type": "code",
   "execution_count": 7,
   "metadata": {},
   "outputs": [],
   "source": [
    "def can_setting_axis(before_action, state):\n",
    "    piece_size = (before_action & 0b_1_0_000000000) >> 10\n",
    "    is_hand = (before_action & 0b_0_1_000000000) >> 9\n",
    "    before_moving_piece_axis = (before_action & 0b_0_0_111111111)\n",
    "    # Lがあるところにはおけない、MがあるところにL以外置けない, 空なら置ける。\n",
    "    my_large_board = (state & 0b_111111111_000000000_000000000_000000000) >> 27\n",
    "    my_middle_board = (state & 0b_000000000_111111111_000000000_000000000) >> 18\n",
    "    your_large_board = (state & 0b_000000000_000000000_111111111_000000000) >> 9\n",
    "    your_middle_board = state & 0b_000000000_000000000_000000000_111111111\n",
    "    large_mask = my_large_board | your_large_board # L駒が置いてあるマスが1\n",
    "    middle_mask = my_middle_board | your_middle_board # M駒が置いてあるマスが1\n",
    "    exist_mask = large_mask | middle_mask\n",
    "    \n",
    "    after_moving_piece_axes = []\n",
    "    for i in range(9): # 各マス確認\n",
    "        if (is_hand != 1) and (before_moving_piece_axis == 2**i): # 元あったマスにはおけない。\n",
    "                pass;\n",
    "        elif piece_size == 0: # L駒なら\n",
    "            # L駒が置いていないなら置ける\n",
    "            if large_mask & 1 == 0:\n",
    "                after_moving_piece_axes.append(2**i)\n",
    "        else: # M駒なら\n",
    "            # L, M駒が置いていないなら置ける\n",
    "            if exist_mask & 1 == 0:\n",
    "                after_moving_piece_axes.append(2**i)\n",
    "            \n",
    "        large_mask = large_mask >> 1\n",
    "        exist_mask = exist_mask >> 1\n",
    "    return after_moving_piece_axes\n"
   ]
  },
  {
   "cell_type": "code",
   "execution_count": 8,
   "metadata": {},
   "outputs": [
    {
     "name": "stdout",
     "output_type": "stream",
     "text": [
      "state:110000000010000001001100000001010000\n",
      "choise:  size ... M, place ... 盤上の駒, マス 8\n",
      "行動 000000010\n",
      "行動 000000100\n",
      "行動 000001000\n",
      "choise:  size ... L, place ... 盤上の駒, マス 1\n",
      "行動 000000001\n",
      "行動 000000010\n",
      "行動 000000100\n",
      "行動 000001000\n",
      "行動 000010000\n",
      "choise:  size ... M, place ... 盤上の駒, マス 1\n",
      "行動 000000010\n",
      "行動 000000100\n",
      "行動 000001000\n",
      "choise:  size ... L, place ... 盤上の駒, マス 0\n",
      "行動 000000001\n",
      "行動 000000010\n",
      "行動 000000100\n",
      "行動 000001000\n",
      "行動 000010000\n"
     ]
    }
   ],
   "source": [
    "# 確認\n",
    "state = 0b_110000000_010000001_001100000_001010000\n",
    "print(f\"state:{state:036b}\")\n",
    "for choising_piece in can_choising_pieces(state):\n",
    "    piece_size_str = \"L\" if choising_piece >> 10 == 0 else \"M\"\n",
    "    is_hand_str = \"持ち駒\" if (choising_piece & 0b_0_1_000000000) >> 9 == 1 else \"盤上の駒, マス\"\n",
    "    before_moving_piece_axis = (choising_piece & 0b_0_0_111111111)\n",
    "    mass = \"\"\n",
    "    if is_hand_str == \"盤上の駒, マス\":\n",
    "        mass = [256, 128, 64, 32, 16, 8, 4, 2, 1].index(before_moving_piece_axis)\n",
    "    print(f\"choise:  size ... {piece_size_str}, place ... {is_hand_str} {mass}\")\n",
    "    for axis in can_setting_axis(choising_piece, state):\n",
    "        print(f\"行動 {axis:09b}\")"
   ]
  },
  {
   "cell_type": "markdown",
   "metadata": {},
   "source": [
    "#### 合法手の作成"
   ]
  },
  {
   "cell_type": "code",
   "execution_count": 9,
   "metadata": {},
   "outputs": [],
   "source": [
    "def legal_actions(state):\n",
    "    actions = []\n",
    "    for before_action in can_choising_pieces(state):\n",
    "        for after_moving_piece_axis in can_setting_axis(before_action, state):\n",
    "            actions.append(before_action << 9 | after_moving_piece_axis)\n",
    "    return actions"
   ]
  },
  {
   "cell_type": "markdown",
   "metadata": {},
   "source": [
    "確認"
   ]
  },
  {
   "cell_type": "code",
   "execution_count": 10,
   "metadata": {},
   "outputs": [
    {
     "name": "stdout",
     "output_type": "stream",
     "text": [
      "18\n"
     ]
    }
   ],
   "source": [
    "# 確認\n",
    "\n",
    "# 先手, 手駒Lを選択時, 置ける駒はL, その位置は0~8のハズ\n",
    "state = 0b_000000000_000000000_000000000_000000000\n",
    "print(len(legal_actions(state)))"
   ]
  },
  {
   "cell_type": "markdown",
   "metadata": {},
   "source": [
    "### 次の手"
   ]
  },
  {
   "cell_type": "markdown",
   "metadata": {},
   "source": [
    "stateにactionを反映して、次のstateを作成する\n",
    "\n",
    "next_stateを2回に分けて作成。  \n",
    "- 駒を持ち上げた状態を作成 : create_next_state_from_choise(state, action)\n",
    "- 駒を持ち上げて置いた状態を作成 : create_next_state_from_set(state, action)\n"
   ]
  },
  {
   "cell_type": "markdown",
   "metadata": {},
   "source": [
    "#### 駒を持ち上げた状態を作成"
   ]
  },
  {
   "cell_type": "code",
   "execution_count": 11,
   "metadata": {},
   "outputs": [],
   "source": [
    "# bit反転がうまくいかなかった。用解析。\n",
    "# 苦肉の策で文字列でbit操作をしている。\n",
    "\n",
    "def create_next_state_from_choise(state, action):\n",
    "    next_state = state\n",
    "    is_hand = (action & 0b_0_1_000000000_000000000) >> 18\n",
    "    if is_hand != 1: # 盤面なら、重なった部分を0にする\n",
    "        piece_size = (action & 0b_1_0_000000000_000000000) >> 19\n",
    "        before_moving_piece_axis =f\"{(action & 0b_0_0_111111111_000000000) >> 9:09b}\"\n",
    "        \n",
    "        my_large_board = list(f'{state:036b}'[0:9])\n",
    "        my_middle_board = list(f'{state:036b}'[9:18])\n",
    "        your_large_board = list(f'{state:036b}'[18:27])\n",
    "        your_middle_board = list(f'{state:036b}'[27:36])\n",
    "\n",
    "        if piece_size == 0: # L駒なら\n",
    "            for i in range(9):\n",
    "                if before_moving_piece_axis[i] == \"1\":\n",
    "                    my_large_board[i] = \"0\"\n",
    "        else: # M駒なら\n",
    "            for i in range(9):\n",
    "                if before_moving_piece_axis[i] == \"1\":\n",
    "                    my_middle_board[i] = \"0\"\n",
    "\n",
    "        next_state = int(\"\".join(my_large_board) + \"\".join(my_middle_board) + \"\".join(your_large_board) + \"\".join(your_middle_board), 2)\n",
    "    return next_state"
   ]
  },
  {
   "cell_type": "code",
   "execution_count": 12,
   "metadata": {},
   "outputs": [
    {
     "name": "stdout",
     "output_type": "stream",
     "text": [
      "手L駒\n",
      "100000000010000000000000000000000000\n",
      "100000000010000000000000000000000000\n",
      "手M駒\n",
      "100000000010000000000000000000000000\n",
      "100000000010000000000000000000000000\n",
      "盤L駒\n",
      "100000000010000000000000000000000000\n",
      "000000000010000000000000000000000000\n",
      "盤M駒\n",
      "100000000010000000000000000000000000\n",
      "100000000000000000000000000000000000\n"
     ]
    }
   ],
   "source": [
    "# 確認\n",
    "state = 0b_100000000_010000000_000000000_000000000\n",
    "print(\"手L駒\")\n",
    "action = 0b_0_1_000000000_000000000\n",
    "next_state =  create_next_state_from_choise(state, action)\n",
    "print(f\"{state:036b}\")\n",
    "print(f\"{next_state:036b}\")\n",
    "print(\"手M駒\")\n",
    "action = 0b_1_1_000000000_000000000\n",
    "next_state =  create_next_state_from_choise(state, action)\n",
    "print(f\"{state:036b}\")\n",
    "print(f\"{next_state:036b}\")\n",
    "print(\"盤L駒\")\n",
    "action = 0b_0_0_100000000_000000000\n",
    "next_state =  create_next_state_from_choise(state, action)\n",
    "print(f\"{state:036b}\")\n",
    "print(f\"{next_state:036b}\")\n",
    "print(\"盤M駒\")\n",
    "action = 0b_1_0_010000000_000000000\n",
    "next_state =  create_next_state_from_choise(state, action)\n",
    "print(f\"{state:036b}\")\n",
    "print(f\"{next_state:036b}\")\n"
   ]
  },
  {
   "cell_type": "markdown",
   "metadata": {},
   "source": [
    "#### 持ち上げた駒を置いた状態を作成\n",
    "\n",
    "- stateはすでにcreate_next_state_from_choiseが反映されているとする。"
   ]
  },
  {
   "cell_type": "code",
   "execution_count": 13,
   "metadata": {},
   "outputs": [],
   "source": [
    "def create_next_state_from_set(state, action):\n",
    "    next_state = state\n",
    "    piece_size = (action & 0b_1_0_000000000_000000000) >> 19\n",
    "    after_moving_piece_axis = action & 0b_0_0_000000000_111111111\n",
    "    # print(after_moving_piece_axis)\n",
    "    # print(piece_size)\n",
    "    if piece_size == 0: #L駒\n",
    "        next_state = next_state | (after_moving_piece_axis << 27) \n",
    "    else: # M駒\n",
    "        next_state = next_state | (after_moving_piece_axis << 18)\n",
    "\n",
    "    return next_state"
   ]
  },
  {
   "cell_type": "code",
   "execution_count": 14,
   "metadata": {},
   "outputs": [
    {
     "name": "stdout",
     "output_type": "stream",
     "text": [
      "手L駒\n",
      "100000000100000000000000000000000000\n",
      "100000000100000000000000000000000000\n",
      "100000001100000000000000000000000000\n",
      "手M駒\n",
      "100000000100000000000000000000000000\n",
      "100000000100000000000000000000000000\n",
      "100000000100000001000000000000000000\n",
      "盤L駒\n",
      "100000000100000000000000000000000000\n",
      "000000000100000000000000000000000000\n",
      "000000001100000000000000000000000000\n",
      "盤M駒\n",
      "100000000100000000000000000000000000\n",
      "100000000000000000000000000000000000\n",
      "100000000000000001000000000000000000\n"
     ]
    }
   ],
   "source": [
    "# 確認\n",
    "state = 0b100000000100000000000000000000000000\n",
    "print(\"手L駒\")\n",
    "action = 0b_0_1_000000000_000000001\n",
    "next_state =  create_next_state_from_choise(state, action)\n",
    "print(f\"{state:036b}\")\n",
    "print(f\"{next_state:036b}\")\n",
    "next_state = create_next_state_from_set(next_state, action)\n",
    "print(f\"{next_state:036b}\")\n",
    "\n",
    "print(\"手M駒\")\n",
    "action = 0b_1_1_000000000_000000001\n",
    "next_state =  create_next_state_from_choise(state, action)\n",
    "print(f\"{state:036b}\")\n",
    "print(f\"{next_state:036b}\")\n",
    "next_state = create_next_state_from_set(next_state, action)\n",
    "print(f\"{next_state:036b}\")\n",
    "\n",
    "print(\"盤L駒\")\n",
    "action = 0b_0_0_100000000_000000001\n",
    "next_state =  create_next_state_from_choise(state, action)\n",
    "print(f\"{state:036b}\")\n",
    "print(f\"{next_state:036b}\")\n",
    "next_state = create_next_state_from_set(next_state, action)\n",
    "print(f\"{next_state:036b}\")\n",
    "\n",
    "print(\"盤M駒\")\n",
    "action = 0b_1_0_100000000_000000001\n",
    "next_state =  create_next_state_from_choise(state, action)\n",
    "print(f\"{state:036b}\")\n",
    "print(f\"{next_state:036b}\")\n",
    "next_state = create_next_state_from_set(next_state, action)\n",
    "print(f\"{next_state:036b}\")\n"
   ]
  },
  {
   "cell_type": "code",
   "execution_count": 15,
   "metadata": {},
   "outputs": [],
   "source": [
    "# actionから次の状態を直接作成(set -> set)\n",
    "def create_next_state(state, action):\n",
    "    next_choise_state = create_next_state_from_choise(state, action)\n",
    "    next_set_state = create_next_state_from_set(next_choise_state, action)\n",
    "    return next_set_state"
   ]
  },
  {
   "cell_type": "markdown",
   "metadata": {},
   "source": [
    "### 盤面から勝敗確定かチェック"
   ]
  },
  {
   "cell_type": "markdown",
   "metadata": {},
   "source": [
    "check_result(state) -> [is_done, winner]:\n",
    "\n",
    "- is_done : 勝敗確定盤面か\n",
    "- winner : 自分の勝ちなら0, 相手の勝ちなら1\n",
    "\n",
    "surface_board\n",
    " … boardで上に駒が重なっている駒を0にした。\n",
    "\n"
   ]
  },
  {
   "cell_type": "code",
   "execution_count": 16,
   "metadata": {},
   "outputs": [],
   "source": [
    "# 勝敗の有無\n",
    "\n",
    "# 確かめるマスの座標 = [[0,1,2], [3,4,5], [6,7,8], [0,3,6], [1,4,7], [2,5,8], [0,4,8], [2,4,6]]\n",
    "check_masks = [0b111000000, 0b000111000, 0b000000111, 0b100100100, 0b010010010, 0b001001001, 0b100010001, 0b001010100]\n",
    "\n",
    "def is_win(single_surface):\n",
    "    for check_mask in check_masks:\n",
    "        if (single_surface & check_mask) == check_mask:\n",
    "            return True\n",
    "    return False"
   ]
  },
  {
   "cell_type": "code",
   "execution_count": 17,
   "metadata": {},
   "outputs": [
    {
     "name": "stdout",
     "output_type": "stream",
     "text": [
      "False\n",
      "False\n",
      "False\n",
      "True\n"
     ]
    }
   ],
   "source": [
    "# 確認\n",
    "single_surface = 0b000000000\n",
    "print(is_win(single_surface))\n",
    "single_surface = 0b100000000\n",
    "print(is_win(single_surface))\n",
    "single_surface = 0b110000000\n",
    "print(is_win(single_surface))\n",
    "single_surface = 0b101111000\n",
    "print(is_win(single_surface))"
   ]
  },
  {
   "cell_type": "code",
   "execution_count": 18,
   "metadata": {},
   "outputs": [],
   "source": [
    "# 表面の駒だけbitが立つboardを作成する\n",
    "def create_surface(state):    \n",
    "    # LがあるところのMを0にする\n",
    "    my_large_board = (state & 0b_111111111_000000000_000000000_000000000) >> 27\n",
    "    my_middle_board = (state & 0b_000000000_111111111_000000000_000000000) >> 18\n",
    "    your_large_board = (state & 0b_000000000_000000000_111111111_000000000) >> 9\n",
    "    your_middle_board = state & 0b_000000000_000000000_000000000_111111111\n",
    "\n",
    "    large_mask = my_large_board | your_large_board # L駒が置いてあるマスが1\n",
    "    \n",
    "    # mask = (large_mask << 18) | large_mask # state = 0b110000000_000000000...0 なら mask = 0b110000000_000000000_000000000\n",
    "\n",
    "    my_large_board = list(f'{state:036b}'[0:9])\n",
    "    my_middle_board = list(f'{state:036b}'[9:18])\n",
    "    your_large_board = list(f'{state:036b}'[18:27])\n",
    "    your_middle_board = list(f'{state:036b}'[27:36])\n",
    "\n",
    "    for i, bit in enumerate(f\"{large_mask:09b}\"):\n",
    "        if bit == \"1\":\n",
    "            my_middle_board[i] == \"0\"\n",
    "            your_middle_board[i] == \"0\"\n",
    "\n",
    "    state_surface = int(\"\".join(my_large_board) + \"\".join(my_middle_board) + \"\".join(your_large_board) + \"\".join(your_middle_board), 2)\n",
    "\n",
    "    return state_surface"
   ]
  },
  {
   "cell_type": "code",
   "execution_count": 19,
   "metadata": {},
   "outputs": [
    {
     "name": "stdout",
     "output_type": "stream",
     "text": [
      "110000000011000000001100000000110000\n"
     ]
    }
   ],
   "source": [
    "# 確認\n",
    "state = 0b_110000000_011000000_001100000_000110000\n",
    "print(f\"{create_surface(state):036b}\")"
   ]
  },
  {
   "cell_type": "code",
   "execution_count": 20,
   "metadata": {},
   "outputs": [],
   "source": [
    "#勝敗の有無、勝者を確認する\n",
    "def check_result(state):\n",
    "    state_surface = create_surface(state)\n",
    "    is_done = 0 # 決着がついているなら1を返す\n",
    "    winner = 0 # 自分は0, 相手は1\n",
    "    # 内部で自駒と敵駒をそれぞれ一つにまとめる\n",
    "    single_surfaces = [0, 0]\n",
    "    my_large_board = (state_surface & 0b_111111111_000000000_000000000_000000000) >> 27\n",
    "    my_middle_board = (state_surface & 0b_000000000_111111111_000000000_000000000) >> 18\n",
    "    your_large_board = (state_surface & 0b_000000000_000000000_111111111_000000000) >> 9\n",
    "    your_middle_board = state_surface & 0b_000000000_000000000_000000000_111111111\n",
    "    single_surfaces[0] = my_large_board | my_middle_board\n",
    "    single_surfaces[1] = your_large_board | your_middle_board\n",
    "    \n",
    "    is_my_win = is_win(single_surfaces[0])\n",
    "    is_your_win = is_win(single_surfaces[1])\n",
    "    \n",
    "    if is_my_win == 1:\n",
    "        is_done = 1\n",
    "        winner = 0\n",
    "    elif is_your_win == 1:\n",
    "        is_done = 1\n",
    "        winner = 1\n",
    "    \n",
    "    return [is_done, winner]"
   ]
  },
  {
   "cell_type": "code",
   "execution_count": 21,
   "metadata": {},
   "outputs": [
    {
     "name": "stdout",
     "output_type": "stream",
     "text": [
      "<class 'int'> <class 'int'>\n",
      "0 0\n",
      "1 0\n",
      "1 1\n"
     ]
    }
   ],
   "source": [
    "# 確認\n",
    "state = 0b000000000000000000000000000000000000\n",
    "is_done, winner = check_result(state)\n",
    "print(type(is_done),type(winner))\n",
    "print(is_done, winner)\n",
    "# 確認\n",
    "state = 0b110000000001000000000000000000000000\n",
    "is_done, winner = check_result(state)\n",
    "print(is_done, winner)\n",
    "state = 0b000000000000000000110000000101000000\n",
    "is_done, winner = check_result(state)\n",
    "print(is_done, winner)"
   ]
  },
  {
   "cell_type": "markdown",
   "metadata": {},
   "source": [
    "## 全状態の列挙"
   ]
  },
  {
   "cell_type": "code",
   "execution_count": 22,
   "metadata": {},
   "outputs": [],
   "source": [
    "import time\n",
    "from collections import deque\n",
    "import sys\n",
    "from IPython.display import clear_output"
   ]
  },
  {
   "cell_type": "code",
   "execution_count": 145,
   "metadata": {
    "scrolled": true
   },
   "outputs": [
    {
     "name": "stdout",
     "output_type": "stream",
     "text": [
      "all状態数: 212878\n",
      "allサイズ: 1703080 byte\n",
      "set状態数: 212626\n",
      "setサイズ: 1701064 byte\n",
      "choise状態数: 92808\n",
      "choise状態サイズ: 742520 byte\n",
      "loop回数: 3228077\n",
      "Wall time: 2min 35s\n"
     ]
    }
   ],
   "source": [
    "%%time\n",
    "\n",
    "# 到達可能な全盤面を作成する\n",
    "# 発見 -> 未訪問 -> 訪問済み の流れ。\n",
    "\n",
    "q = deque() # 発見キュー\n",
    "all_states = set() # 訪問済み\n",
    "all_set_states = set()\n",
    "all_choise_states = set() #持ち上げた盤面のテーブルも作成しておく\n",
    "\n",
    "# 初期状態の追加\n",
    "init_state = 0b000000000000000000000000000000000000\n",
    "q.append(convert_normalization_state(init_state))\n",
    "# qが空になるまで探索\n",
    "cnt = 0\n",
    "while q: \n",
    "    cnt += 1\n",
    "    if cnt % 1000 == 0:\n",
    "        clear_output(wait=True)\n",
    "        print(cnt)\n",
    "        time.sleep(0.001) #1msの休止\n",
    "    current_state = q.popleft()\n",
    "    current_state = convert_normalization_state(current_state) # 正規化\n",
    "    if current_state not in all_set_states: # current_stateがまだ訪問済みでないなら\n",
    "        all_set_states.add(current_state) # 訪問済みに追加\n",
    "        is_done, winner = check_result(current_state)\n",
    "        if is_done != 1: # 勝敗決定盤面でないなら\n",
    "            for action in legal_actions(current_state): # 合法手を列挙\n",
    "                choise_state = create_next_state_from_choise(current_state, action) # 持ち上げた盤面の勝敗確認\n",
    "                all_choise_states.add(convert_normalization_state(choise_state))\n",
    "                is_done, winner = check_result(choise_state)\n",
    "                if is_done != 1: # 勝敗決定盤面でないなら\n",
    "                    next_state = create_next_state(current_state, action) #次の状態(正規化済)\n",
    "                    # 手番の入れ替え\n",
    "                    next_state  = (next_state & 0b_111111111_111111111_000000000_000000000) >> 18 | (next_state & 0b_000000000_000000000_111111111_111111111) << 18\n",
    "                    next_state = convert_normalization_state(next_state) # 正規化\n",
    "                    q.append(next_state) # 追加\n",
    "                        \n",
    "\n",
    "# list化してソート\n",
    "all_states = all_set_states | all_choise_states\n",
    "all_states = list(all_states)\n",
    "all_states.sort()\n",
    "\n",
    "all_set_states = list(all_set_states)\n",
    "all_set_states.sort()\n",
    "all_choise_states = list(all_choise_states)\n",
    "all_choise_states.sort()\n",
    "\n",
    "\n",
    "\n",
    "# 状態の確認\n",
    "clear_output(wait=True)\n",
    "print(f'all状態数: {len(all_states)}')\n",
    "print(f'allサイズ: {sys.getsizeof(all_states)} byte')\n",
    "\n",
    "print(f'set状態数: {len(all_set_states)}')\n",
    "print(f'setサイズ: {sys.getsizeof(all_set_states)} byte')\n",
    "\n",
    "print(f'choise状態数: {len(all_choise_states)}')\n",
    "print(f'choise状態サイズ: {sys.getsizeof(all_choise_states)} byte')\n",
    "\n",
    "print(f'loop回数: {cnt}')"
   ]
  },
  {
   "cell_type": "code",
   "execution_count": 146,
   "metadata": {},
   "outputs": [],
   "source": [
    "import pickle"
   ]
  },
  {
   "cell_type": "code",
   "execution_count": 28,
   "metadata": {},
   "outputs": [
    {
     "data": {
      "application/vnd.jupyter.widget-view+json": {
       "model_id": "9c5db142c04c43e89192d1875ff7c4fe",
       "version_major": 2,
       "version_minor": 0
      },
      "text/plain": [
       "HBox(children=(HTML(value='進捗'), FloatProgress(value=0.0), HTML(value='')))"
      ]
     },
     "metadata": {},
     "output_type": "display_data"
    },
    {
     "name": "stdout",
     "output_type": "stream",
     "text": [
      "\n"
     ]
    }
   ],
   "source": [
    "# 進行バー\n",
    "from tqdm.notebook import tqdm as tqdm\n",
    "for i in tqdm(range(100), desc=\"進捗\", leave=True ):\n",
    "  time.sleep(0.1)"
   ]
  },
  {
   "cell_type": "code",
   "execution_count": 147,
   "metadata": {},
   "outputs": [],
   "source": [
    "# pickleで保存\n",
    "\n",
    "with open('all_states.pickle', 'wb') as f:\n",
    "    pickle.dump(all_states, f)\n",
    "with open('all_set_states.pickle', 'wb') as f:\n",
    "    pickle.dump(all_set_states, f)\n",
    "with open('all_choise_states.pickle', 'wb') as f:\n",
    "    pickle.dump(all_choise_states, f)"
   ]
  },
  {
   "cell_type": "code",
   "execution_count": 148,
   "metadata": {},
   "outputs": [],
   "source": [
    "# allstates, all_choise_statesを非pickle化\n",
    "with open('all_states.pickle', 'rb') as f:\n",
    "    all_states = pickle.load(f)\n",
    "with open('all_set_states.pickle', 'rb') as f:\n",
    "    all_set_states = pickle.load(f)\n",
    "with open('all_choise_states.pickle', 'rb') as f:\n",
    "    all_choise_states = pickle.load(f)\n"
   ]
  },
  {
   "cell_type": "code",
   "execution_count": 150,
   "metadata": {},
   "outputs": [
    {
     "data": {
      "application/vnd.jupyter.widget-view+json": {
       "model_id": "4175c9679c034540a64e832a859326c5",
       "version_major": 2,
       "version_minor": 0
      },
      "text/plain": [
       "HBox(children=(HTML(value='search uniq choise state'), FloatProgress(value=0.0, max=92808.0), HTML(value='')))"
      ]
     },
     "metadata": {},
     "output_type": "display_data"
    },
    {
     "name": "stdout",
     "output_type": "stream",
     "text": [
      "\n"
     ]
    },
    {
     "ename": "KeyboardInterrupt",
     "evalue": "",
     "output_type": "error",
     "traceback": [
      "\u001b[1;31m---------------------------------------------------------------------------\u001b[0m",
      "\u001b[1;31mKeyboardInterrupt\u001b[0m                         Traceback (most recent call last)",
      "\u001b[1;32m<ipython-input-150-ff09d70cbeb7>\u001b[0m in \u001b[0;36m<module>\u001b[1;34m\u001b[0m\n\u001b[0;32m      4\u001b[0m \u001b[1;33m\u001b[0m\u001b[0m\n\u001b[0;32m      5\u001b[0m \u001b[0mcnt\u001b[0m \u001b[1;33m=\u001b[0m \u001b[1;36m0\u001b[0m\u001b[1;33m\u001b[0m\u001b[1;33m\u001b[0m\u001b[0m\n\u001b[1;32m----> 6\u001b[1;33m \u001b[1;32mfor\u001b[0m \u001b[0mchoise_state\u001b[0m \u001b[1;32min\u001b[0m \u001b[0mtqdm\u001b[0m\u001b[1;33m(\u001b[0m\u001b[0mall_choise_states\u001b[0m\u001b[1;33m,\u001b[0m \u001b[0mdesc\u001b[0m\u001b[1;33m=\u001b[0m\u001b[1;34m\"search uniq choise state\"\u001b[0m\u001b[1;33m,\u001b[0m \u001b[0mleave\u001b[0m\u001b[1;33m=\u001b[0m\u001b[1;32mTrue\u001b[0m\u001b[1;33m)\u001b[0m\u001b[1;33m:\u001b[0m\u001b[1;33m\u001b[0m\u001b[1;33m\u001b[0m\u001b[0m\n\u001b[0m\u001b[0;32m      7\u001b[0m     \u001b[1;32mif\u001b[0m \u001b[0mchoise_state\u001b[0m \u001b[1;32mnot\u001b[0m \u001b[1;32min\u001b[0m \u001b[0mall_set_states\u001b[0m\u001b[1;33m:\u001b[0m\u001b[1;33m\u001b[0m\u001b[1;33m\u001b[0m\u001b[0m\n\u001b[0;32m      8\u001b[0m         \u001b[0mchoise_states_only\u001b[0m\u001b[1;33m.\u001b[0m\u001b[0madd\u001b[0m\u001b[1;33m(\u001b[0m\u001b[0mchoise_state\u001b[0m\u001b[1;33m)\u001b[0m\u001b[1;33m\u001b[0m\u001b[1;33m\u001b[0m\u001b[0m\n",
      "\u001b[1;32m~\\anaconda3\\lib\\site-packages\\tqdm\\notebook.py\u001b[0m in \u001b[0;36m__iter__\u001b[1;34m(self, *args, **kwargs)\u001b[0m\n\u001b[0;32m    234\u001b[0m             \u001b[1;32mfor\u001b[0m \u001b[0mobj\u001b[0m \u001b[1;32min\u001b[0m \u001b[0msuper\u001b[0m\u001b[1;33m(\u001b[0m\u001b[0mtqdm_notebook\u001b[0m\u001b[1;33m,\u001b[0m \u001b[0mself\u001b[0m\u001b[1;33m)\u001b[0m\u001b[1;33m.\u001b[0m\u001b[0m__iter__\u001b[0m\u001b[1;33m(\u001b[0m\u001b[1;33m*\u001b[0m\u001b[0margs\u001b[0m\u001b[1;33m,\u001b[0m \u001b[1;33m**\u001b[0m\u001b[0mkwargs\u001b[0m\u001b[1;33m)\u001b[0m\u001b[1;33m:\u001b[0m\u001b[1;33m\u001b[0m\u001b[1;33m\u001b[0m\u001b[0m\n\u001b[0;32m    235\u001b[0m                 \u001b[1;31m# return super(tqdm...) will not catch exception\u001b[0m\u001b[1;33m\u001b[0m\u001b[1;33m\u001b[0m\u001b[1;33m\u001b[0m\u001b[0m\n\u001b[1;32m--> 236\u001b[1;33m                 \u001b[1;32myield\u001b[0m \u001b[0mobj\u001b[0m\u001b[1;33m\u001b[0m\u001b[1;33m\u001b[0m\u001b[0m\n\u001b[0m\u001b[0;32m    237\u001b[0m         \u001b[1;31m# NB: except ... [ as ...] breaks IPython async KeyboardInterrupt\u001b[0m\u001b[1;33m\u001b[0m\u001b[1;33m\u001b[0m\u001b[1;33m\u001b[0m\u001b[0m\n\u001b[0;32m    238\u001b[0m         \u001b[1;32mexcept\u001b[0m\u001b[1;33m:\u001b[0m  \u001b[1;31m# NOQA\u001b[0m\u001b[1;33m\u001b[0m\u001b[1;33m\u001b[0m\u001b[0m\n",
      "\u001b[1;31mKeyboardInterrupt\u001b[0m: "
     ]
    }
   ],
   "source": [
    "# all_set_statesに存在しない状態, all_choise_statesに存在しない状態の列挙\n",
    "choise_states_only = set()\n",
    "set_states_only = set()\n",
    "\n",
    "cnt = 0\n",
    "for choise_state in tqdm(all_choise_states, desc=\"search uniq choise state\", leave=True):\n",
    "    if choise_state not in all_set_states:\n",
    "        choise_states_only.add(choise_state)\n",
    "        cnt += 1\n",
    "\n",
    "print(f\"all_set_statesに存在しない状態が{cnt}だけあります。\")\n",
    "\n",
    "cnt = 0\n",
    "for set_state in tqdm(all_set_states, desc=\"search uniq set state\", leave=True):\n",
    "    if set_state not in all_choise_states:\n",
    "        set_states_only.add(choise_state)\n",
    "        cnt += 1\n",
    "\n",
    "print(f\"all_choise_statesに存在しない状態が{cnt}だけあります。\")\n",
    "\n",
    "# list化してソート\n",
    "choise_states_only = list(choise_states_only)\n",
    "choise_states_only.sort()\n",
    "choise_states_only = list(choise_states_only)\n",
    "choise_states_only.sort()\n",
    "\n",
    "# pickleで保存\n",
    "with open('choise_states_only.pickle', 'wb') as f:\n",
    "    pickle.dump(choise_states_only, f)\n",
    "with open('choise_states_only.pickle', 'wb') as f:\n",
    "    pickle.dump(set_states_only, f)"
   ]
  },
  {
   "cell_type": "markdown",
   "metadata": {},
   "source": [
    "## 後退解析"
   ]
  },
  {
   "cell_type": "markdown",
   "metadata": {},
   "source": [
    "### 追加関数"
   ]
  },
  {
   "cell_type": "code",
   "execution_count": 152,
   "metadata": {},
   "outputs": [],
   "source": [
    "def newWinLose(all_set_states, winLose, state):\n",
    "    alllose = True\n",
    "    for action in legal_actions(state): # 合法手を列挙\n",
    "        choise_state = create_next_state_from_choise(state, action) # 持ち上げた盤面の勝敗確認\n",
    "        is_done, winner = check_result(choise_state)\n",
    "        if is_done == 1:\n",
    "            if winner == 1: # 相手勝ち\n",
    "                return -1\n",
    "            else: # ないけど。自分勝ち\n",
    "                return 1\n",
    "        else: # 持ち上げても勝敗確定せず\n",
    "            next_state = create_next_state(state, action) # 次の状態を作成, 手番入れ替えて検索\n",
    "            next_state  = (next_state & 0b_111111111_111111111_000000000_000000000) >> 18 | (next_state & 0b_000000000_000000000_111111111_111111111) << 18\n",
    "            next_state = convert_normalization_state(next_state) # 正規化\n",
    "            if next_state not in all_set_states:\n",
    "                if next_state in all_choise_states:\n",
    "                    print(\"all_choise_statesにはある\")\n",
    "                else:\n",
    "                    print(f\"{next_state}はどこにもないです。\")\n",
    "            else:\n",
    "                i1 = all_set_states.index(next_state)\n",
    "                if winLose[i1] == -1: # 次の目線で相手勝ちなら\n",
    "                    return 1 # 自分勝ち\n",
    "                if winLose[i1] == 0:\n",
    "                    alllose = False\n",
    "    if alllose: # 相手勝ち\n",
    "        return -1\n",
    "    else: # 未決着\n",
    "        return 0"
   ]
  },
  {
   "cell_type": "markdown",
   "metadata": {},
   "source": [
    "### 処理"
   ]
  },
  {
   "cell_type": "code",
   "execution_count": 153,
   "metadata": {},
   "outputs": [],
   "source": [
    "winLose = [0] * len(all_set_states) # その盤面の勝敗 0は未確定, 1は自分勝ち, -1は相手勝ち\n",
    "winLoseCount = [0] * len(all_set_states) # 勝敗にかかるまでの手数\n",
    "count = [0, 0, 0] # 負け, 引き分け、勝ち"
   ]
  },
  {
   "cell_type": "code",
   "execution_count": 154,
   "metadata": {},
   "outputs": [
    {
     "data": {
      "application/vnd.jupyter.widget-view+json": {
       "model_id": "64298aa8b22842619828d815dd737855",
       "version_major": 2,
       "version_minor": 0
      },
      "text/plain": [
       "HBox(children=(HTML(value='初回'), FloatProgress(value=0.0, max=212626.0), HTML(value='')))"
      ]
     },
     "metadata": {},
     "output_type": "display_data"
    },
    {
     "name": "stdout",
     "output_type": "stream",
     "text": [
      "\n",
      "後退解析開始\n",
      "iteration 1\n",
      "勝ち : 0, 負け : 35324, 引分 : 177302\n"
     ]
    },
    {
     "data": {
      "application/vnd.jupyter.widget-view+json": {
       "model_id": "3fe0ebedfe034a9488abafe7601d0c1b",
       "version_major": 2,
       "version_minor": 0
      },
      "text/plain": [
       "HBox(children=(HTML(value='iterateion 1'), FloatProgress(value=0.0, max=212626.0), HTML(value='')))"
      ]
     },
     "metadata": {},
     "output_type": "display_data"
    },
    {
     "name": "stdout",
     "output_type": "stream",
     "text": [
      "\n",
      "iteration 2\n",
      "勝ち : 141508, 負け : 39890, 引分 : 31228\n"
     ]
    },
    {
     "data": {
      "application/vnd.jupyter.widget-view+json": {
       "model_id": "b4e94f4fa9104392a35206f4fc278a1c",
       "version_major": 2,
       "version_minor": 0
      },
      "text/plain": [
       "HBox(children=(HTML(value='iterateion 2'), FloatProgress(value=0.0, max=212626.0), HTML(value='')))"
      ]
     },
     "metadata": {},
     "output_type": "display_data"
    },
    {
     "name": "stdout",
     "output_type": "stream",
     "text": [
      "\n",
      "iteration 3\n",
      "勝ち : 148454, 負け : 56494, 引分 : 7678\n"
     ]
    },
    {
     "data": {
      "application/vnd.jupyter.widget-view+json": {
       "model_id": "20e68387fbd04e14a25d7aebb6a1441a",
       "version_major": 2,
       "version_minor": 0
      },
      "text/plain": [
       "HBox(children=(HTML(value='iterateion 3'), FloatProgress(value=0.0, max=212626.0), HTML(value='')))"
      ]
     },
     "metadata": {},
     "output_type": "display_data"
    },
    {
     "name": "stdout",
     "output_type": "stream",
     "text": [
      "\n",
      "iteration 4\n",
      "勝ち : 151167, 負け : 60183, 引分 : 1276\n"
     ]
    },
    {
     "data": {
      "application/vnd.jupyter.widget-view+json": {
       "model_id": "d83580cfe7184188b7ce017bc5d00c4c",
       "version_major": 2,
       "version_minor": 0
      },
      "text/plain": [
       "HBox(children=(HTML(value='iterateion 4'), FloatProgress(value=0.0, max=212626.0), HTML(value='')))"
      ]
     },
     "metadata": {},
     "output_type": "display_data"
    },
    {
     "name": "stdout",
     "output_type": "stream",
     "text": [
      "\n",
      "iteration 5\n",
      "勝ち : 151741, 負け : 60733, 引分 : 152\n"
     ]
    },
    {
     "data": {
      "application/vnd.jupyter.widget-view+json": {
       "model_id": "ce69c058d2934b788223fb36a3a869f2",
       "version_major": 2,
       "version_minor": 0
      },
      "text/plain": [
       "HBox(children=(HTML(value='iterateion 5'), FloatProgress(value=0.0, max=212626.0), HTML(value='')))"
      ]
     },
     "metadata": {},
     "output_type": "display_data"
    },
    {
     "name": "stdout",
     "output_type": "stream",
     "text": [
      "\n",
      "iteration 6\n",
      "勝ち : 151811, 負け : 60797, 引分 : 18\n"
     ]
    },
    {
     "data": {
      "application/vnd.jupyter.widget-view+json": {
       "model_id": "a436eb336fe44ae89a860fb471ac9c0c",
       "version_major": 2,
       "version_minor": 0
      },
      "text/plain": [
       "HBox(children=(HTML(value='iterateion 6'), FloatProgress(value=0.0, max=212626.0), HTML(value='')))"
      ]
     },
     "metadata": {},
     "output_type": "display_data"
    },
    {
     "name": "stdout",
     "output_type": "stream",
     "text": [
      "\n",
      "iteration 7\n",
      "勝ち : 151817, 負け : 60801, 引分 : 8\n"
     ]
    },
    {
     "data": {
      "application/vnd.jupyter.widget-view+json": {
       "model_id": "c202d1dff0bf44858dc2e63bd84c398d",
       "version_major": 2,
       "version_minor": 0
      },
      "text/plain": [
       "HBox(children=(HTML(value='iterateion 7'), FloatProgress(value=0.0, max=212626.0), HTML(value='')))"
      ]
     },
     "metadata": {},
     "output_type": "display_data"
    },
    {
     "name": "stdout",
     "output_type": "stream",
     "text": [
      "\n",
      "解析終了\n",
      "勝ち盤面 : 60801\n",
      "負け盤面 : 151817\n",
      "引分盤面 : 8\n",
      "ループ回数 : 7\n",
      "Wall time: 1h 16min 30s\n"
     ]
    }
   ],
   "source": [
    "%%time\n",
    "\n",
    "# 現在の盤面のwinLoseを記録\n",
    "for i, state in enumerate(tqdm(all_set_states, desc=\"初回\", leave=True)):\n",
    "    is_done, winner = check_result(state)\n",
    "    if is_done == 1: # 終了盤面\n",
    "        if winner == 0: #勝ち盤面\n",
    "            winLose[i] = 1\n",
    "            count[2] += 1\n",
    "        else: #相手勝ち\n",
    "            winLose[i] = -1\n",
    "            count[0] += 1\n",
    "    else:\n",
    "        winLose[i] = 0\n",
    "        count[1] += 1\n",
    "\n",
    "print(\"後退解析開始\")\n",
    "c = 0 # 手数\n",
    "while True:\n",
    "    # winLoseNewを作成\n",
    "    winLoseNew = winLose\n",
    "    # 勝敗のカウント\n",
    "    c += 1;\n",
    "    print(f'iteration {c}')\n",
    "    print(f'勝ち : {count[2]}, 負け : {count[0]}, 引分 : {count[1]}')\n",
    "    # 解析終了フラグ\n",
    "    changed = False \n",
    "    # 解析\n",
    "    for i, state in enumerate(tqdm(all_set_states, desc=f\"iterateion {c}\", leave=True)):\n",
    "        if winLose[i] == 0: # 勝敗未確定盤面\n",
    "            nv = newWinLose(all_set_states, winLose, state) # 次の状態を調べて\n",
    "            if nv != 0:\n",
    "                winLoseNew[i] = nv # 勝ちなら nv = 1, 負けなら nv = -1\n",
    "                winLoseCount[i] = c\n",
    "                count[nv+1] += 1 # nv = 1, count[2] += 1, nv = -1, count[0] += 1\n",
    "                count[1] -= 1\n",
    "                changed = True\n",
    "    \n",
    "    # winLose とwinLoseNewのswap\n",
    "    tmp_winLose = winLose\n",
    "    winLose = winLoseNew\n",
    "    winLoseNew = tmp_winLose\n",
    "    if not changed:\n",
    "        break;\n",
    "\n",
    "print(\"解析終了\")\n",
    "print(f'勝ち盤面 : {count[0]}')\n",
    "print(f'負け盤面 : {count[2]}')\n",
    "print(f'引分盤面 : {count[1]}')\n",
    "print(f'ループ回数 : {c}')"
   ]
  },
  {
   "cell_type": "code",
   "execution_count": 155,
   "metadata": {},
   "outputs": [],
   "source": [
    "# pickleで保存\n",
    "with open('winLose.pickle', 'wb') as f:\n",
    "    pickle.dump(winLose, f)\n",
    "with open('winLoseCount.pickle', 'wb') as f:\n",
    "    pickle.dump(winLoseCount, f)\n",
    "with open('count.pickle', 'wb') as f:\n",
    "    pickle.dump(count, f)"
   ]
  },
  {
   "cell_type": "code",
   "execution_count": 156,
   "metadata": {},
   "outputs": [],
   "source": [
    "# 非pickle化\n",
    "with open('winLose.pickle', 'rb') as f:\n",
    "    winLose = pickle.load(f)\n",
    "with open('winLoseCount.pickle', 'rb') as f:\n",
    "    winLoseCount = pickle.load(f)\n",
    "with open('count.pickle', 'rb') as f:\n",
    "    count = pickle.load(f)\n"
   ]
  },
  {
   "cell_type": "code",
   "execution_count": 157,
   "metadata": {},
   "outputs": [
    {
     "data": {
      "text/html": [
       "<div>\n",
       "<style scoped>\n",
       "    .dataframe tbody tr th:only-of-type {\n",
       "        vertical-align: middle;\n",
       "    }\n",
       "\n",
       "    .dataframe tbody tr th {\n",
       "        vertical-align: top;\n",
       "    }\n",
       "\n",
       "    .dataframe thead th {\n",
       "        text-align: right;\n",
       "    }\n",
       "</style>\n",
       "<table border=\"1\" class=\"dataframe\">\n",
       "  <thead>\n",
       "    <tr style=\"text-align: right;\">\n",
       "      <th></th>\n",
       "      <th>STATE</th>\n",
       "      <th>RESULT</th>\n",
       "      <th>RESULT_NUM</th>\n",
       "    </tr>\n",
       "  </thead>\n",
       "  <tbody>\n",
       "    <tr>\n",
       "      <th>0</th>\n",
       "      <td>0</td>\n",
       "      <td>1</td>\n",
       "      <td>5</td>\n",
       "    </tr>\n",
       "    <tr>\n",
       "      <th>1</th>\n",
       "      <td>1</td>\n",
       "      <td>-1</td>\n",
       "      <td>5</td>\n",
       "    </tr>\n",
       "    <tr>\n",
       "      <th>2</th>\n",
       "      <td>2</td>\n",
       "      <td>-1</td>\n",
       "      <td>6</td>\n",
       "    </tr>\n",
       "    <tr>\n",
       "      <th>16</th>\n",
       "      <td>16</td>\n",
       "      <td>-1</td>\n",
       "      <td>4</td>\n",
       "    </tr>\n",
       "    <tr>\n",
       "      <th>512</th>\n",
       "      <td>512</td>\n",
       "      <td>-1</td>\n",
       "      <td>5</td>\n",
       "    </tr>\n",
       "    <tr>\n",
       "      <th>...</th>\n",
       "      <td>...</td>\n",
       "      <td>...</td>\n",
       "      <td>...</td>\n",
       "    </tr>\n",
       "    <tr>\n",
       "      <th>9194308114</th>\n",
       "      <td>9194308114</td>\n",
       "      <td>-1</td>\n",
       "      <td>0</td>\n",
       "    </tr>\n",
       "    <tr>\n",
       "      <th>9194308116</th>\n",
       "      <td>9194308116</td>\n",
       "      <td>-1</td>\n",
       "      <td>0</td>\n",
       "    </tr>\n",
       "    <tr>\n",
       "      <th>9194308130</th>\n",
       "      <td>9194308130</td>\n",
       "      <td>1</td>\n",
       "      <td>1</td>\n",
       "    </tr>\n",
       "    <tr>\n",
       "      <th>9194308136</th>\n",
       "      <td>9194308136</td>\n",
       "      <td>1</td>\n",
       "      <td>1</td>\n",
       "    </tr>\n",
       "    <tr>\n",
       "      <th>9194308164</th>\n",
       "      <td>9194308164</td>\n",
       "      <td>1</td>\n",
       "      <td>1</td>\n",
       "    </tr>\n",
       "  </tbody>\n",
       "</table>\n",
       "<p>212626 rows × 3 columns</p>\n",
       "</div>"
      ],
      "text/plain": [
       "                 STATE  RESULT  RESULT_NUM\n",
       "0                    0       1           5\n",
       "1                    1      -1           5\n",
       "2                    2      -1           6\n",
       "16                  16      -1           4\n",
       "512                512      -1           5\n",
       "...                ...     ...         ...\n",
       "9194308114  9194308114      -1           0\n",
       "9194308116  9194308116      -1           0\n",
       "9194308130  9194308130       1           1\n",
       "9194308136  9194308136       1           1\n",
       "9194308164  9194308164       1           1\n",
       "\n",
       "[212626 rows x 3 columns]"
      ]
     },
     "execution_count": 157,
     "metadata": {},
     "output_type": "execute_result"
    }
   ],
   "source": [
    "# csvの読み込むためのモジュール\n",
    "import pandas as pd\n",
    "from pandas import DataFrame\n",
    "import numpy as np\n",
    "\n",
    "df = pd.DataFrame({\"STATE\" : all_set_states, \"RESULT\" : winLose, \"RESULT_NUM\" : winLoseCount}, index=all_set_states)\n",
    "\n",
    "# CSV ファイル出力\n",
    "df.to_csv(\"gobblers_limited_analysis.csv\")\n",
    "\n",
    "#結果の表示\n",
    "df"
   ]
  },
  {
   "cell_type": "code",
   "execution_count": 158,
   "metadata": {},
   "outputs": [
    {
     "name": "stdout",
     "output_type": "stream",
     "text": [
      "                 STATE  RESULT  RESULT_NUM\n",
      "0                    0       1           5\n",
      "1                    1      -1           5\n",
      "2                    2      -1           6\n",
      "16                  16      -1           4\n",
      "512                512      -1           5\n",
      "...                ...     ...         ...\n",
      "9194308114  9194308114      -1           0\n",
      "9194308116  9194308116      -1           0\n",
      "9194308130  9194308130       1           1\n",
      "9194308136  9194308136       1           1\n",
      "9194308164  9194308164       1           1\n",
      "\n",
      "[212626 rows x 3 columns]\n"
     ]
    }
   ],
   "source": [
    "# gobblers_limited_analysisの読み込み\n",
    "\n",
    "df = pd.read_csv(\n",
    "    \"gobblers_limited_analysis.csv\",\n",
    "    index_col=0, # 最初の１行はデータ名。\n",
    "    encoding=\"cp932\" # windowsの追加文字に対応。おまじないだと思えば良い。\n",
    "    )\n",
    "print(df)"
   ]
  },
  {
   "cell_type": "markdown",
   "metadata": {},
   "source": [
    "### 状態の可視化"
   ]
  },
  {
   "cell_type": "code",
   "execution_count": 159,
   "metadata": {},
   "outputs": [],
   "source": [
    "# visual_state の作成\n",
    "def visual_state(state):\n",
    "    \n",
    "    piece_type_str_list = [\"O\", \"o\", \"X\", \"x\"]\n",
    "    \n",
    "    state_str = \"\"\n",
    "    for i, bit in enumerate(list(f\"{state:036b}\")):\n",
    "        if bit == \"1\":\n",
    "            state_str += piece_type_str_list[i//9]\n",
    "        else: # bit == \"0\"\n",
    "            state_str += \"_\"\n",
    "            \n",
    "    my_large_board = state_str[0:9]\n",
    "    my_middle_board = state_str[9:18]\n",
    "    your_large_board = state_str[18:27]\n",
    "    your_middle_board = state_str[27:36]\n",
    "\n",
    "    hand = create_hand(state)\n",
    "\n",
    "    output_str = \"\"\n",
    "    output_str += f\"my_hand     L {hand[0]} piece   M {hand[1]} piece\\n\"\n",
    "    output_str += f\"my_board    L board     M board    \\n\"\n",
    "    for i in range(3):\n",
    "        output_str += f\"             {my_large_board[3*i]}{my_large_board[3*i+1]}{my_large_board[3*i+2]}\"\n",
    "        output_str += f\"         {my_middle_board[3*i]}{my_middle_board[3*i+1]}{my_middle_board[3*i+2]}\\n\"\n",
    "    output_str += \"\\n\"\n",
    "    output_str += f\"your_hand   L {hand[2]} piece   M {hand[3]} piece\\n\"\n",
    "    output_str += f\"your_board  L board     M board    \\n\"\n",
    "    for i in range(3):\n",
    "        output_str += f\"             {your_large_board[3*i]}{your_large_board[3*i+1]}{your_large_board[3*i+2]}\"\n",
    "        output_str += f\"         {your_middle_board[3*i]}{your_middle_board[3*i+1]}{your_middle_board[3*i+2]}\\n\"\n",
    "    \n",
    "    return output_str"
   ]
  },
  {
   "cell_type": "code",
   "execution_count": 160,
   "metadata": {},
   "outputs": [
    {
     "name": "stdout",
     "output_type": "stream",
     "text": [
      "state : 000000010001000000000100000010000000\n",
      "visualize : \n",
      "my_hand     L 1 piece   M 1 piece\n",
      "my_board    L board     M board    \n",
      "             ___         __o\n",
      "             ___         ___\n",
      "             _O_         ___\n",
      "\n",
      "your_hand   L 1 piece   M 1 piece\n",
      "your_board  L board     M board    \n",
      "             ___         _x_\n",
      "             X__         ___\n",
      "             ___         ___\n",
      "\n",
      "\n"
     ]
    }
   ],
   "source": [
    "# 確認\n",
    "state = 0b_000000010_001000000_000100000_010000000\n",
    "print(f\"state : {state:036b}\")\n",
    "print(f\"visualize : \\n{visual_state(state)}\")\n",
    "print()"
   ]
  },
  {
   "cell_type": "markdown",
   "metadata": {},
   "source": [
    "### 結果をファイルに書き出し"
   ]
  },
  {
   "cell_type": "code",
   "execution_count": 161,
   "metadata": {},
   "outputs": [
    {
     "data": {
      "application/vnd.jupyter.widget-view+json": {
       "model_id": "000c7a06827f4f04a173f2e075afc6d1",
       "version_major": 2,
       "version_minor": 0
      },
      "text/plain": [
       "HBox(children=(HTML(value='結果の出力'), FloatProgress(value=0.0, max=212626.0), HTML(value='')))"
      ]
     },
     "metadata": {},
     "output_type": "display_data"
    },
    {
     "name": "stdout",
     "output_type": "stream",
     "text": [
      "\n"
     ]
    }
   ],
   "source": [
    "import datetime\n",
    "\n",
    "now = datetime.datetime.now()\n",
    "\n",
    "# 全状態\n",
    "with open('file.txt', 'w') as f:\n",
    "    print(f'{now}', file=f)\n",
    "    print(f'到達可能状態数: {len(all_set_states)}', file=f)\n",
    "    print(f'到達可能状態一覧:', file=f)\n",
    "    for state in tqdm(all_set_states, desc=\"結果の出力\", leave=True):\n",
    "        print(f\"状態 : {state:036b}\", file=f)\n",
    "        print(f\"可視化 : \\n{visual_state(state)}\", file=f)"
   ]
  },
  {
   "cell_type": "code",
   "execution_count": 162,
   "metadata": {},
   "outputs": [
    {
     "data": {
      "application/vnd.jupyter.widget-view+json": {
       "model_id": "fb599170158a49ad941d11344435456d",
       "version_major": 2,
       "version_minor": 0
      },
      "text/plain": [
       "HBox(children=(HTML(value='結果の出力'), FloatProgress(value=0.0, max=8.0), HTML(value='')))"
      ]
     },
     "metadata": {},
     "output_type": "display_data"
    },
    {
     "name": "stdout",
     "output_type": "stream",
     "text": [
      "\n"
     ]
    }
   ],
   "source": [
    "# winLoseが0の盤面だけ取り出す .. 引き分けかループか\n",
    "\n",
    "indexes = [i for i, wl in enumerate(winLose) if wl == 0]\n",
    "\n",
    "with open('yet.txt', 'w') as f:\n",
    "    print(f'{now}', file=f)\n",
    "    print(f'勝敗が決まらない盤面数: {len(indexes)}', file=f)\n",
    "    print(f'勝敗が決まらない盤面一覧:', file=f)\n",
    "    for index in tqdm(indexes, desc=\"結果の出力\", leave=True):\n",
    "        print(f\"状態 : {all_set_states[index]:036b}\", file=f)\n",
    "        print(f\"可視化 : \\n{visual_state(all_set_states[index])}\", file=f)"
   ]
  },
  {
   "cell_type": "code",
   "execution_count": 163,
   "metadata": {},
   "outputs": [
    {
     "data": {
      "image/png": "[encoded data removed]",
      "text/plain": [
       "<Figure size 432x288 with 1 Axes>"
      ]
     },
     "metadata": {},
     "output_type": "display_data"
    }
   ],
   "source": [
    "# ループの可視化\n",
    "import networkx as nx\n",
    "G = nx.Graph()\n",
    "loop_states = [all_set_states[index] for index in indexes]\n",
    "G.add_nodes_from(loop_states)\n",
    "for state in loop_states:\n",
    "    next_states = []\n",
    "    for action in legal_actions(state):\n",
    "        next_state = create_next_state(state, action)\n",
    "        next_state = convert_normalization_state(next_state)\n",
    "        next_states.append(next_state)\n",
    "    for next_state in next_states:\n",
    "        if next_state in loop_states:\n",
    "            G.add_edges_from([(state, next_state)])\n",
    "\n",
    "nx.draw_circular(G, node_size=400, node_color='red', with_labels=True)"
   ]
  },
  {
   "cell_type": "markdown",
   "metadata": {},
   "source": [
    "2つのループに分けられる"
   ]
  },
  {
   "cell_type": "code",
   "execution_count": 164,
   "metadata": {},
   "outputs": [
    {
     "data": {
      "image/png": "[encoded data removed]",
      "text/plain": [
       "<Figure size 432x288 with 1 Axes>"
      ]
     },
     "metadata": {},
     "output_type": "display_data"
    }
   ],
   "source": [
    "loop1 = [2420703784, 229419586, 52268328]\n",
    "loop2 = [278930064, 1352671888, 1352673424, 1644700208, 5402796592]\n",
    "\n",
    "G_l1 = nx.Graph()\n",
    "G_l1.add_nodes_from(loop1)\n",
    "for state1 in loop1:\n",
    "    for state2 in loop1:\n",
    "        if state1 != state2:\n",
    "            G_l1.add_edges_from([(state1, state2)])\n",
    "nx.draw_circular(G_l1, node_size=400, node_color='red', with_labels=True)"
   ]
  },
  {
   "cell_type": "code",
   "execution_count": 165,
   "metadata": {},
   "outputs": [
    {
     "data": {
      "image/png": "[encoded data removed]",
      "text/plain": [
       "<Figure size 432x288 with 1 Axes>"
      ]
     },
     "metadata": {},
     "output_type": "display_data"
    }
   ],
   "source": [
    "G_l2 = nx.Graph()\n",
    "G_l2.add_nodes_from(loop2)\n",
    "for state1 in loop2:\n",
    "    for state2 in loop2:\n",
    "        if state1 != state2:\n",
    "            G_l2.add_edges_from([(state1, state2)])\n",
    "nx.draw_circular(G_l2, node_size=400, node_color='red', with_labels=True)"
   ]
  },
  {
   "cell_type": "code",
   "execution_count": 166,
   "metadata": {},
   "outputs": [
    {
     "name": "stdout",
     "output_type": "stream",
     "text": [
      "000010010000010010010000001000101000\n",
      "000000001101101011001010101001000010\n",
      "000000000001101101001101100110000010\n",
      "\n",
      "000000010000101000000010001010010000\n",
      "000001010000101000000010001010010000\n",
      "000001010000101000000010100010010000\n",
      "000001100010000010000010001000110000\n",
      "000101000010000010000010001000110000\n",
      "\n"
     ]
    }
   ],
   "source": [
    "loop1 = [2420703784, 229419586, 52268328]\n",
    "loop2 = [278930064, 1352671888, 1352673424, 1644700208, 5402796592]\n",
    "for loop in [loop1, loop2]:\n",
    "    for state in loop:\n",
    "        state = convert_normalization_state(state)\n",
    "        print(f\"{state:036b}\")\n",
    "    print()"
   ]
  },
  {
   "cell_type": "code",
   "execution_count": null,
   "metadata": {},
   "outputs": [],
   "source": []
  }
 ],
 "metadata": {
  "kernelspec": {
   "display_name": "Python 3",
   "language": "python",
   "name": "python3"
  },
  "language_info": {
   "codemirror_mode": {
    "name": "ipython",
    "version": 3
   },
   "file_extension": ".py",
   "mimetype": "text/x-python",
   "name": "python",
   "nbconvert_exporter": "python",
   "pygments_lexer": "ipython3",
   "version": "3.8.5"
  }
 },
 "nbformat": 4,
 "nbformat_minor": 4
}
